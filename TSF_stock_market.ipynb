{
  "cells": [
    {
      "cell_type": "code",
      "source": [
        "%pip install yfinance --upgrade --no-cache-dir\n",
        "%pip install nltk --upgrade --no-cache-dir\n",
        "%pip install scikit-learn --upgrade --no-cache-dir"
      ],
      "outputs": [
        {
          "output_type": "stream",
          "name": "stdout",
          "text": "Requirement already satisfied: yfinance in /anaconda/envs/azureml_py38_PT_TF/lib/python3.9/site-packages (0.2.40)\nRequirement already satisfied: pandas>=1.3.0 in /anaconda/envs/azureml_py38_PT_TF/lib/python3.9/site-packages (from yfinance) (2.2.2)\nRequirement already satisfied: numpy>=1.16.5 in /anaconda/envs/azureml_py38_PT_TF/lib/python3.9/site-packages (from yfinance) (1.23.5)\nRequirement already satisfied: requests>=2.31 in /anaconda/envs/azureml_py38_PT_TF/lib/python3.9/site-packages (from yfinance) (2.32.3)\nRequirement already satisfied: multitasking>=0.0.7 in /anaconda/envs/azureml_py38_PT_TF/lib/python3.9/site-packages (from yfinance) (0.0.11)\nRequirement already satisfied: lxml>=4.9.1 in /anaconda/envs/azureml_py38_PT_TF/lib/python3.9/site-packages (from yfinance) (5.2.2)\nRequirement already satisfied: platformdirs>=2.0.0 in /anaconda/envs/azureml_py38_PT_TF/lib/python3.9/site-packages (from yfinance) (4.2.2)\nRequirement already satisfied: pytz>=2022.5 in /anaconda/envs/azureml_py38_PT_TF/lib/python3.9/site-packages (from yfinance) (2024.1)\nRequirement already satisfied: frozendict>=2.3.4 in /anaconda/envs/azureml_py38_PT_TF/lib/python3.9/site-packages (from yfinance) (2.4.4)\nRequirement already satisfied: peewee>=3.16.2 in /anaconda/envs/azureml_py38_PT_TF/lib/python3.9/site-packages (from yfinance) (3.17.5)\nRequirement already satisfied: beautifulsoup4>=4.11.1 in /anaconda/envs/azureml_py38_PT_TF/lib/python3.9/site-packages (from yfinance) (4.12.3)\nRequirement already satisfied: html5lib>=1.1 in /anaconda/envs/azureml_py38_PT_TF/lib/python3.9/site-packages (from yfinance) (1.1)\nRequirement already satisfied: soupsieve>1.2 in /anaconda/envs/azureml_py38_PT_TF/lib/python3.9/site-packages (from beautifulsoup4>=4.11.1->yfinance) (2.5)\nRequirement already satisfied: six>=1.9 in /anaconda/envs/azureml_py38_PT_TF/lib/python3.9/site-packages (from html5lib>=1.1->yfinance) (1.16.0)\nRequirement already satisfied: webencodings in /anaconda/envs/azureml_py38_PT_TF/lib/python3.9/site-packages (from html5lib>=1.1->yfinance) (0.5.1)\nRequirement already satisfied: python-dateutil>=2.8.2 in /anaconda/envs/azureml_py38_PT_TF/lib/python3.9/site-packages (from pandas>=1.3.0->yfinance) (2.9.0)\nRequirement already satisfied: tzdata>=2022.7 in /anaconda/envs/azureml_py38_PT_TF/lib/python3.9/site-packages (from pandas>=1.3.0->yfinance) (2024.1)\nRequirement already satisfied: charset-normalizer<4,>=2 in /anaconda/envs/azureml_py38_PT_TF/lib/python3.9/site-packages (from requests>=2.31->yfinance) (3.3.2)\nRequirement already satisfied: idna<4,>=2.5 in /anaconda/envs/azureml_py38_PT_TF/lib/python3.9/site-packages (from requests>=2.31->yfinance) (3.7)\nRequirement already satisfied: urllib3<3,>=1.21.1 in /anaconda/envs/azureml_py38_PT_TF/lib/python3.9/site-packages (from requests>=2.31->yfinance) (2.2.1)\nRequirement already satisfied: certifi>=2017.4.17 in /anaconda/envs/azureml_py38_PT_TF/lib/python3.9/site-packages (from requests>=2.31->yfinance) (2024.6.2)\nNote: you may need to restart the kernel to use updated packages.\nRequirement already satisfied: nltk in /anaconda/envs/azureml_py38_PT_TF/lib/python3.9/site-packages (3.8.1)\nRequirement already satisfied: click in /anaconda/envs/azureml_py38_PT_TF/lib/python3.9/site-packages (from nltk) (8.1.7)\nRequirement already satisfied: joblib in /anaconda/envs/azureml_py38_PT_TF/lib/python3.9/site-packages (from nltk) (1.4.2)\nRequirement already satisfied: regex>=2021.8.3 in /anaconda/envs/azureml_py38_PT_TF/lib/python3.9/site-packages (from nltk) (2024.5.15)\nRequirement already satisfied: tqdm in /anaconda/envs/azureml_py38_PT_TF/lib/python3.9/site-packages (from nltk) (4.66.4)\nNote: you may need to restart the kernel to use updated packages.\nRequirement already satisfied: scikit-learn in /anaconda/envs/azureml_py38_PT_TF/lib/python3.9/site-packages (1.5.0)\nRequirement already satisfied: numpy>=1.19.5 in /anaconda/envs/azureml_py38_PT_TF/lib/python3.9/site-packages (from scikit-learn) (1.23.5)\nRequirement already satisfied: scipy>=1.6.0 in /anaconda/envs/azureml_py38_PT_TF/lib/python3.9/site-packages (from scikit-learn) (1.13.1)\nRequirement already satisfied: joblib>=1.2.0 in /anaconda/envs/azureml_py38_PT_TF/lib/python3.9/site-packages (from scikit-learn) (1.4.2)\nRequirement already satisfied: threadpoolctl>=3.1.0 in /anaconda/envs/azureml_py38_PT_TF/lib/python3.9/site-packages (from scikit-learn) (3.5.0)\nNote: you may need to restart the kernel to use updated packages.\n"
        }
      ],
      "execution_count": 1,
      "metadata": {
        "colab": {
          "base_uri": "https://localhost:8080/"
        },
        "id": "kp3LQLSdcPdR",
        "outputId": "785c589e-09e7-49f2-e7cf-77e21377344a"
      }
    },
    {
      "cell_type": "markdown",
      "source": [
        "### Importing necessary libraries"
      ],
      "metadata": {
        "id": "T1LQJziYcVIQ"
      }
    },
    {
      "cell_type": "code",
      "source": [
        "import yfinance as yf\n",
        "import pandas as pd\n",
        "import numpy as np\n",
        "import tensorflow as tf\n",
        "import re\n",
        "from nltk.corpus import stopwords\n",
        "from sklearn.model_selection import train_test_split\n",
        "from sklearn.metrics import median_absolute_error as mae\n",
        "from sklearn.metrics import mean_squared_error as mse\n",
        "from sklearn.metrics import accuracy_score as acc\n",
        "import matplotlib.pyplot as plt\n",
        "\n",
        "from keras.models import Sequential\n",
        "from keras import initializers\n",
        "from keras.layers import *\n",
        "from keras.layers import add\n",
        "from keras.layers import Dropout, Activation, Embedding, Convolution1D, MaxPooling1D, Input, Dense, \\\n",
        "                         BatchNormalization, Flatten, Reshape, Concatenate\n",
        "from keras.layers import LSTM, GRU\n",
        "from keras.callbacks import Callback, ModelCheckpoint, EarlyStopping, ReduceLROnPlateau\n",
        "from keras.models import Model\n",
        "from keras.optimizers import Adam, SGD, RMSprop\n",
        "from keras import regularizers\n",
        "import nltk\n",
        "\n",
        "nltk.download('stopwords')"
      ],
      "outputs": [
        {
          "output_type": "stream",
          "name": "stderr",
          "text": "2024-07-02 19:55:06.885565: I tensorflow/core/util/port.cc:113] oneDNN custom operations are on. You may see slightly different numerical results due to floating-point round-off errors from different computation orders. To turn them off, set the environment variable `TF_ENABLE_ONEDNN_OPTS=0`.\n2024-07-02 19:55:06.930578: E external/local_xla/xla/stream_executor/cuda/cuda_dnn.cc:9261] Unable to register cuDNN factory: Attempting to register factory for plugin cuDNN when one has already been registered\n2024-07-02 19:55:06.930620: E external/local_xla/xla/stream_executor/cuda/cuda_fft.cc:607] Unable to register cuFFT factory: Attempting to register factory for plugin cuFFT when one has already been registered\n2024-07-02 19:55:06.931975: E external/local_xla/xla/stream_executor/cuda/cuda_blas.cc:1515] Unable to register cuBLAS factory: Attempting to register factory for plugin cuBLAS when one has already been registered\n2024-07-02 19:55:06.940461: I tensorflow/core/platform/cpu_feature_guard.cc:182] This TensorFlow binary is optimized to use available CPU instructions in performance-critical operations.\nTo enable the following instructions: AVX2 AVX512F AVX512_VNNI FMA, in other operations, rebuild TensorFlow with the appropriate compiler flags.\n2024-07-02 19:55:07.883175: W tensorflow/compiler/tf2tensorrt/utils/py_utils.cc:38] TF-TRT Warning: Could not find TensorRT\n[nltk_data] Downloading package stopwords to\n[nltk_data]     /home/azureuser/nltk_data...\n[nltk_data]   Package stopwords is already up-to-date!\n"
        },
        {
          "output_type": "execute_result",
          "execution_count": 2,
          "data": {
            "text/plain": "True"
          },
          "metadata": {}
        }
      ],
      "execution_count": 2,
      "metadata": {
        "colab": {
          "base_uri": "https://localhost:8080/"
        },
        "id": "BoU5mkllcJFm",
        "outputId": "67bd8190-541e-4fbf-ea1d-7f55f0322f24",
        "gather": {
          "logged": 1719950109960
        }
      }
    },
    {
      "cell_type": "markdown",
      "source": [
        "### Downloading data between 2010 & 2020 from yahoo finance API"
      ],
      "metadata": {
        "id": "V84BN3tfccQm"
      }
    },
    {
      "cell_type": "code",
      "source": [
        "# Define the ticker symbol for S&P BSE SENSEX\n",
        "ticker_symbol = \"^BSESN\"\n",
        "\n",
        "# Download the data\n",
        "data = yf.download(ticker_symbol, start=\"2001-01-01\", end=\"2020-12-31\")\n",
        "\n",
        "# Display the first few rows of the data\n",
        "data.head()"
      ],
      "outputs": [
        {
          "output_type": "stream",
          "name": "stderr",
          "text": "\r[*********************100%%**********************]  1 of 1 completed\n"
        },
        {
          "output_type": "execute_result",
          "execution_count": 3,
          "data": {
            "text/plain": "                   Open         High          Low        Close    Adj Close  \\\nDate                                                                          \n2001-01-02  3953.219971  4028.570068  3929.370117  4018.879883  4018.879883   \n2001-01-03  3977.580078  4067.659912  3977.580078  4060.020020  4060.020020   \n2001-01-04  4180.970215  4180.970215  4109.549805  4115.370117  4115.370117   \n2001-01-05  4116.339844  4195.009766  4115.350098  4183.729980  4183.729980   \n2001-01-08  4164.759766  4206.720215  4101.529785  4120.430176  4120.430176   \n\n            Volume  \nDate                \n2001-01-02       0  \n2001-01-03       0  \n2001-01-04       0  \n2001-01-05       0  \n2001-01-08       0  ",
            "text/html": "<div>\n<style scoped>\n    .dataframe tbody tr th:only-of-type {\n        vertical-align: middle;\n    }\n\n    .dataframe tbody tr th {\n        vertical-align: top;\n    }\n\n    .dataframe thead th {\n        text-align: right;\n    }\n</style>\n<table border=\"1\" class=\"dataframe\">\n  <thead>\n    <tr style=\"text-align: right;\">\n      <th></th>\n      <th>Open</th>\n      <th>High</th>\n      <th>Low</th>\n      <th>Close</th>\n      <th>Adj Close</th>\n      <th>Volume</th>\n    </tr>\n    <tr>\n      <th>Date</th>\n      <th></th>\n      <th></th>\n      <th></th>\n      <th></th>\n      <th></th>\n      <th></th>\n    </tr>\n  </thead>\n  <tbody>\n    <tr>\n      <th>2001-01-02</th>\n      <td>3953.219971</td>\n      <td>4028.570068</td>\n      <td>3929.370117</td>\n      <td>4018.879883</td>\n      <td>4018.879883</td>\n      <td>0</td>\n    </tr>\n    <tr>\n      <th>2001-01-03</th>\n      <td>3977.580078</td>\n      <td>4067.659912</td>\n      <td>3977.580078</td>\n      <td>4060.020020</td>\n      <td>4060.020020</td>\n      <td>0</td>\n    </tr>\n    <tr>\n      <th>2001-01-04</th>\n      <td>4180.970215</td>\n      <td>4180.970215</td>\n      <td>4109.549805</td>\n      <td>4115.370117</td>\n      <td>4115.370117</td>\n      <td>0</td>\n    </tr>\n    <tr>\n      <th>2001-01-05</th>\n      <td>4116.339844</td>\n      <td>4195.009766</td>\n      <td>4115.350098</td>\n      <td>4183.729980</td>\n      <td>4183.729980</td>\n      <td>0</td>\n    </tr>\n    <tr>\n      <th>2001-01-08</th>\n      <td>4164.759766</td>\n      <td>4206.720215</td>\n      <td>4101.529785</td>\n      <td>4120.430176</td>\n      <td>4120.430176</td>\n      <td>0</td>\n    </tr>\n  </tbody>\n</table>\n</div>"
          },
          "metadata": {}
        }
      ],
      "execution_count": 3,
      "metadata": {
        "colab": {
          "base_uri": "https://localhost:8080/",
          "height": 275
        },
        "id": "C3grQwWbcacv",
        "outputId": "3ddf5dd1-e93e-4596-d7fe-a31693a961f8",
        "gather": {
          "logged": 1719950112378
        }
      }
    },
    {
      "cell_type": "code",
      "source": [],
      "outputs": [],
      "execution_count": null,
      "metadata": {
        "id": "C-xbIGnTdWPt",
        "gather": {
          "logged": 1719923157790
        }
      }
    },
    {
      "cell_type": "markdown",
      "source": [
        "### Loading news headlines"
      ],
      "metadata": {
        "id": "BBGvm_A5lg-E"
      }
    },
    {
      "cell_type": "code",
      "source": [
        "news = pd.read_csv('india-news-headlines.csv')"
      ],
      "outputs": [],
      "execution_count": 4,
      "metadata": {
        "id": "RJG44HwHkewz",
        "gather": {
          "logged": 1719950117576
        }
      }
    },
    {
      "cell_type": "code",
      "source": [
        "news.head()"
      ],
      "outputs": [
        {
          "output_type": "execute_result",
          "execution_count": 5,
          "data": {
            "text/plain": "   publish_date headline_category  \\\n0      20010102           unknown   \n1      20010102           unknown   \n2      20010102           unknown   \n3      20010102           unknown   \n4      20010102           unknown   \n\n                                       headline_text  \n0  Status quo will not be disturbed at Ayodhya; s...  \n1                Fissures in Hurriyat over Pak visit  \n2              America's unwanted heading for India?  \n3                 For bigwigs; it is destination Goa  \n4               Extra buses to clear tourist traffic  ",
            "text/html": "<div>\n<style scoped>\n    .dataframe tbody tr th:only-of-type {\n        vertical-align: middle;\n    }\n\n    .dataframe tbody tr th {\n        vertical-align: top;\n    }\n\n    .dataframe thead th {\n        text-align: right;\n    }\n</style>\n<table border=\"1\" class=\"dataframe\">\n  <thead>\n    <tr style=\"text-align: right;\">\n      <th></th>\n      <th>publish_date</th>\n      <th>headline_category</th>\n      <th>headline_text</th>\n    </tr>\n  </thead>\n  <tbody>\n    <tr>\n      <th>0</th>\n      <td>20010102</td>\n      <td>unknown</td>\n      <td>Status quo will not be disturbed at Ayodhya; s...</td>\n    </tr>\n    <tr>\n      <th>1</th>\n      <td>20010102</td>\n      <td>unknown</td>\n      <td>Fissures in Hurriyat over Pak visit</td>\n    </tr>\n    <tr>\n      <th>2</th>\n      <td>20010102</td>\n      <td>unknown</td>\n      <td>America's unwanted heading for India?</td>\n    </tr>\n    <tr>\n      <th>3</th>\n      <td>20010102</td>\n      <td>unknown</td>\n      <td>For bigwigs; it is destination Goa</td>\n    </tr>\n    <tr>\n      <th>4</th>\n      <td>20010102</td>\n      <td>unknown</td>\n      <td>Extra buses to clear tourist traffic</td>\n    </tr>\n  </tbody>\n</table>\n</div>"
          },
          "metadata": {}
        }
      ],
      "execution_count": 5,
      "metadata": {
        "colab": {
          "base_uri": "https://localhost:8080/",
          "height": 226
        },
        "id": "ALPRMsCBmXTb",
        "outputId": "a3973bd6-a33a-4965-840f-b1d16b6020b0",
        "gather": {
          "logged": 1719950118003
        }
      }
    },
    {
      "cell_type": "code",
      "source": [
        "# Convert the 'publish_date' column to datetime\n",
        "news['publish_date'] = pd.to_datetime(news['publish_date'], format='%Y%m%d')"
      ],
      "outputs": [],
      "execution_count": 6,
      "metadata": {
        "id": "i9QcW2sLlojT",
        "gather": {
          "logged": 1719950118361
        }
      }
    },
    {
      "cell_type": "code",
      "source": [
        "news.head()"
      ],
      "outputs": [
        {
          "output_type": "execute_result",
          "execution_count": 7,
          "data": {
            "text/plain": "  publish_date headline_category  \\\n0   2001-01-02           unknown   \n1   2001-01-02           unknown   \n2   2001-01-02           unknown   \n3   2001-01-02           unknown   \n4   2001-01-02           unknown   \n\n                                       headline_text  \n0  Status quo will not be disturbed at Ayodhya; s...  \n1                Fissures in Hurriyat over Pak visit  \n2              America's unwanted heading for India?  \n3                 For bigwigs; it is destination Goa  \n4               Extra buses to clear tourist traffic  ",
            "text/html": "<div>\n<style scoped>\n    .dataframe tbody tr th:only-of-type {\n        vertical-align: middle;\n    }\n\n    .dataframe tbody tr th {\n        vertical-align: top;\n    }\n\n    .dataframe thead th {\n        text-align: right;\n    }\n</style>\n<table border=\"1\" class=\"dataframe\">\n  <thead>\n    <tr style=\"text-align: right;\">\n      <th></th>\n      <th>publish_date</th>\n      <th>headline_category</th>\n      <th>headline_text</th>\n    </tr>\n  </thead>\n  <tbody>\n    <tr>\n      <th>0</th>\n      <td>2001-01-02</td>\n      <td>unknown</td>\n      <td>Status quo will not be disturbed at Ayodhya; s...</td>\n    </tr>\n    <tr>\n      <th>1</th>\n      <td>2001-01-02</td>\n      <td>unknown</td>\n      <td>Fissures in Hurriyat over Pak visit</td>\n    </tr>\n    <tr>\n      <th>2</th>\n      <td>2001-01-02</td>\n      <td>unknown</td>\n      <td>America's unwanted heading for India?</td>\n    </tr>\n    <tr>\n      <th>3</th>\n      <td>2001-01-02</td>\n      <td>unknown</td>\n      <td>For bigwigs; it is destination Goa</td>\n    </tr>\n    <tr>\n      <th>4</th>\n      <td>2001-01-02</td>\n      <td>unknown</td>\n      <td>Extra buses to clear tourist traffic</td>\n    </tr>\n  </tbody>\n</table>\n</div>"
          },
          "metadata": {}
        }
      ],
      "execution_count": 7,
      "metadata": {
        "colab": {
          "base_uri": "https://localhost:8080/",
          "height": 226
        },
        "id": "NxwQFLdPmniV",
        "outputId": "02ab38ef-d605-4e3a-f5a6-77e2df26a95a",
        "gather": {
          "logged": 1719950118687
        }
      }
    },
    {
      "cell_type": "code",
      "source": [
        "# Dropping the headline category\n",
        "news.drop(['headline_category'], axis=1, inplace=True)"
      ],
      "outputs": [],
      "execution_count": 8,
      "metadata": {
        "id": "dI27823qmp-s",
        "gather": {
          "logged": 1719950119007
        }
      }
    },
    {
      "cell_type": "code",
      "source": [
        "news.head()"
      ],
      "outputs": [
        {
          "output_type": "execute_result",
          "execution_count": 9,
          "data": {
            "text/plain": "  publish_date                                      headline_text\n0   2001-01-02  Status quo will not be disturbed at Ayodhya; s...\n1   2001-01-02                Fissures in Hurriyat over Pak visit\n2   2001-01-02              America's unwanted heading for India?\n3   2001-01-02                 For bigwigs; it is destination Goa\n4   2001-01-02               Extra buses to clear tourist traffic",
            "text/html": "<div>\n<style scoped>\n    .dataframe tbody tr th:only-of-type {\n        vertical-align: middle;\n    }\n\n    .dataframe tbody tr th {\n        vertical-align: top;\n    }\n\n    .dataframe thead th {\n        text-align: right;\n    }\n</style>\n<table border=\"1\" class=\"dataframe\">\n  <thead>\n    <tr style=\"text-align: right;\">\n      <th></th>\n      <th>publish_date</th>\n      <th>headline_text</th>\n    </tr>\n  </thead>\n  <tbody>\n    <tr>\n      <th>0</th>\n      <td>2001-01-02</td>\n      <td>Status quo will not be disturbed at Ayodhya; s...</td>\n    </tr>\n    <tr>\n      <th>1</th>\n      <td>2001-01-02</td>\n      <td>Fissures in Hurriyat over Pak visit</td>\n    </tr>\n    <tr>\n      <th>2</th>\n      <td>2001-01-02</td>\n      <td>America's unwanted heading for India?</td>\n    </tr>\n    <tr>\n      <th>3</th>\n      <td>2001-01-02</td>\n      <td>For bigwigs; it is destination Goa</td>\n    </tr>\n    <tr>\n      <th>4</th>\n      <td>2001-01-02</td>\n      <td>Extra buses to clear tourist traffic</td>\n    </tr>\n  </tbody>\n</table>\n</div>"
          },
          "metadata": {}
        }
      ],
      "execution_count": 9,
      "metadata": {
        "colab": {
          "base_uri": "https://localhost:8080/",
          "height": 226
        },
        "id": "feh6HomZnykL",
        "outputId": "bf9e5f12-45b8-4d9e-f723-1168818daceb",
        "gather": {
          "logged": 1719950119332
        }
      }
    },
    {
      "cell_type": "markdown",
      "source": [
        "### EDA"
      ],
      "metadata": {
        "id": "v5sLziSroT-D"
      }
    },
    {
      "cell_type": "code",
      "source": [
        "print(data.shape)\n",
        "print(news.shape)"
      ],
      "outputs": [
        {
          "output_type": "stream",
          "name": "stdout",
          "text": "(4926, 6)\n(3650970, 2)\n"
        }
      ],
      "execution_count": 10,
      "metadata": {
        "colab": {
          "base_uri": "https://localhost:8080/"
        },
        "id": "pxF8ArLOoN3V",
        "outputId": "e98ea950-b451-4d5d-b300-4b18a89036b7",
        "gather": {
          "logged": 1719950119688
        }
      }
    },
    {
      "cell_type": "code",
      "source": [
        "data = data.reset_index()"
      ],
      "outputs": [],
      "execution_count": 11,
      "metadata": {
        "id": "NlC8exPgo-r5",
        "gather": {
          "logged": 1719950119965
        }
      }
    },
    {
      "cell_type": "code",
      "source": [
        "data.head()"
      ],
      "outputs": [
        {
          "output_type": "execute_result",
          "execution_count": 12,
          "data": {
            "text/plain": "        Date         Open         High          Low        Close    Adj Close  \\\n0 2001-01-02  3953.219971  4028.570068  3929.370117  4018.879883  4018.879883   \n1 2001-01-03  3977.580078  4067.659912  3977.580078  4060.020020  4060.020020   \n2 2001-01-04  4180.970215  4180.970215  4109.549805  4115.370117  4115.370117   \n3 2001-01-05  4116.339844  4195.009766  4115.350098  4183.729980  4183.729980   \n4 2001-01-08  4164.759766  4206.720215  4101.529785  4120.430176  4120.430176   \n\n   Volume  \n0       0  \n1       0  \n2       0  \n3       0  \n4       0  ",
            "text/html": "<div>\n<style scoped>\n    .dataframe tbody tr th:only-of-type {\n        vertical-align: middle;\n    }\n\n    .dataframe tbody tr th {\n        vertical-align: top;\n    }\n\n    .dataframe thead th {\n        text-align: right;\n    }\n</style>\n<table border=\"1\" class=\"dataframe\">\n  <thead>\n    <tr style=\"text-align: right;\">\n      <th></th>\n      <th>Date</th>\n      <th>Open</th>\n      <th>High</th>\n      <th>Low</th>\n      <th>Close</th>\n      <th>Adj Close</th>\n      <th>Volume</th>\n    </tr>\n  </thead>\n  <tbody>\n    <tr>\n      <th>0</th>\n      <td>2001-01-02</td>\n      <td>3953.219971</td>\n      <td>4028.570068</td>\n      <td>3929.370117</td>\n      <td>4018.879883</td>\n      <td>4018.879883</td>\n      <td>0</td>\n    </tr>\n    <tr>\n      <th>1</th>\n      <td>2001-01-03</td>\n      <td>3977.580078</td>\n      <td>4067.659912</td>\n      <td>3977.580078</td>\n      <td>4060.020020</td>\n      <td>4060.020020</td>\n      <td>0</td>\n    </tr>\n    <tr>\n      <th>2</th>\n      <td>2001-01-04</td>\n      <td>4180.970215</td>\n      <td>4180.970215</td>\n      <td>4109.549805</td>\n      <td>4115.370117</td>\n      <td>4115.370117</td>\n      <td>0</td>\n    </tr>\n    <tr>\n      <th>3</th>\n      <td>2001-01-05</td>\n      <td>4116.339844</td>\n      <td>4195.009766</td>\n      <td>4115.350098</td>\n      <td>4183.729980</td>\n      <td>4183.729980</td>\n      <td>0</td>\n    </tr>\n    <tr>\n      <th>4</th>\n      <td>2001-01-08</td>\n      <td>4164.759766</td>\n      <td>4206.720215</td>\n      <td>4101.529785</td>\n      <td>4120.430176</td>\n      <td>4120.430176</td>\n      <td>0</td>\n    </tr>\n  </tbody>\n</table>\n</div>"
          },
          "metadata": {}
        }
      ],
      "execution_count": 12,
      "metadata": {
        "colab": {
          "base_uri": "https://localhost:8080/",
          "height": 226
        },
        "id": "pDiKSrIno0k0",
        "outputId": "12280a14-bffd-4758-f1a4-4ca1b7e5f65d",
        "gather": {
          "logged": 1719950120274
        }
      }
    },
    {
      "cell_type": "code",
      "source": [
        "# Compare the number of unique dates. We want matching values.\n",
        "print(len(set(data.Date)))\n",
        "print(len(set(news.publish_date)))"
      ],
      "outputs": [
        {
          "output_type": "stream",
          "name": "stdout",
          "text": "4926\n7717\n"
        }
      ],
      "execution_count": 13,
      "metadata": {
        "colab": {
          "base_uri": "https://localhost:8080/"
        },
        "id": "7_KpDZLMn0zZ",
        "outputId": "cce59900-bcaa-4605-c541-704bc4de4500",
        "gather": {
          "logged": 1719950127455
        }
      }
    },
    {
      "cell_type": "code",
      "source": [
        "# Remove the extra dates that are in data\n",
        "data = data[data.Date.isin(news.publish_date)]"
      ],
      "outputs": [],
      "execution_count": 14,
      "metadata": {
        "id": "y__qevxLoBce",
        "gather": {
          "logged": 1719950127797
        }
      }
    },
    {
      "cell_type": "code",
      "source": [
        "print(len(set(data.Date)))\n",
        "print(len(set(news.publish_date)))"
      ],
      "outputs": [
        {
          "output_type": "stream",
          "name": "stdout",
          "text": "4897\n7717\n"
        }
      ],
      "execution_count": 15,
      "metadata": {
        "colab": {
          "base_uri": "https://localhost:8080/"
        },
        "id": "0lLgbJ-0pRdr",
        "outputId": "cc8eec3a-4de6-40ea-c6c5-1c789be9347b",
        "gather": {
          "logged": 1719950137525
        }
      }
    },
    {
      "cell_type": "code",
      "source": [
        "# Calculate the difference in opening prices between the following and current day.\n",
        "# The model will try to predict how much the Open value will change beased on the news.\n",
        "data = data.set_index('Date').diff(periods=1)\n",
        "data['Date'] = data.index\n",
        "data = data.reset_index(drop=True)\n",
        "# Remove unneeded features\n",
        "data = data.drop(['High','Low','Close','Volume','Adj Close'], axis= 1)"
      ],
      "outputs": [],
      "execution_count": 16,
      "metadata": {
        "id": "_sqSjDL1pWfQ",
        "gather": {
          "logged": 1719950137942
        }
      }
    },
    {
      "cell_type": "code",
      "source": [
        "data.head()"
      ],
      "outputs": [
        {
          "output_type": "execute_result",
          "execution_count": 17,
          "data": {
            "text/plain": "         Open       Date\n0         NaN 2001-01-02\n1   24.360107 2001-01-03\n2  203.390137 2001-01-04\n3  -64.630371 2001-01-05\n4   48.419922 2001-01-08",
            "text/html": "<div>\n<style scoped>\n    .dataframe tbody tr th:only-of-type {\n        vertical-align: middle;\n    }\n\n    .dataframe tbody tr th {\n        vertical-align: top;\n    }\n\n    .dataframe thead th {\n        text-align: right;\n    }\n</style>\n<table border=\"1\" class=\"dataframe\">\n  <thead>\n    <tr style=\"text-align: right;\">\n      <th></th>\n      <th>Open</th>\n      <th>Date</th>\n    </tr>\n  </thead>\n  <tbody>\n    <tr>\n      <th>0</th>\n      <td>NaN</td>\n      <td>2001-01-02</td>\n    </tr>\n    <tr>\n      <th>1</th>\n      <td>24.360107</td>\n      <td>2001-01-03</td>\n    </tr>\n    <tr>\n      <th>2</th>\n      <td>203.390137</td>\n      <td>2001-01-04</td>\n    </tr>\n    <tr>\n      <th>3</th>\n      <td>-64.630371</td>\n      <td>2001-01-05</td>\n    </tr>\n    <tr>\n      <th>4</th>\n      <td>48.419922</td>\n      <td>2001-01-08</td>\n    </tr>\n  </tbody>\n</table>\n</div>"
          },
          "metadata": {}
        }
      ],
      "execution_count": 17,
      "metadata": {
        "colab": {
          "base_uri": "https://localhost:8080/",
          "height": 226
        },
        "id": "SNblS6irr8tO",
        "outputId": "70f506a3-074a-4ee3-c1b8-c7d0c8241b25",
        "gather": {
          "logged": 1719950138365
        }
      }
    },
    {
      "cell_type": "code",
      "source": [
        "# dRopping null values\n",
        "data.dropna(inplace=True)"
      ],
      "outputs": [],
      "execution_count": 18,
      "metadata": {
        "id": "cuXQYQE5sjDe",
        "gather": {
          "logged": 1719950138711
        }
      }
    },
    {
      "cell_type": "code",
      "source": [
        "# Check if there are any more null values.\n",
        "data.isnull().sum()"
      ],
      "outputs": [
        {
          "output_type": "execute_result",
          "execution_count": 19,
          "data": {
            "text/plain": "Open    0\nDate    0\ndtype: int64"
          },
          "metadata": {}
        }
      ],
      "execution_count": 19,
      "metadata": {
        "colab": {
          "base_uri": "https://localhost:8080/"
        },
        "id": "Kwu2QxcxsUCA",
        "outputId": "4e16fe07-8b87-47e2-a03e-cbaa97a1a14e",
        "gather": {
          "logged": 1719950139052
        }
      }
    },
    {
      "cell_type": "code",
      "source": [
        "# Create a list of the opening prices and their corresponding daily headlines from the news\n",
        "price = []\n",
        "headlines = []\n",
        "\n",
        "for row in data.iterrows():\n",
        "    daily_headlines = []\n",
        "    date = row[1]['Date']\n",
        "    price.append(row[1]['Open'])\n",
        "    for row_ in news[news.publish_date==date].iterrows():\n",
        "        daily_headlines.append(row_[1]['headline_text'])\n",
        "\n",
        "    # Track progress\n",
        "    headlines.append(daily_headlines)\n",
        "    if len(price) % 500 == 0:\n",
        "        print(len(price))"
      ],
      "outputs": [
        {
          "output_type": "stream",
          "name": "stdout",
          "text": "500\n1000\n1500\n2000\n2500\n3000\n3500\n4000\n4500\n"
        }
      ],
      "execution_count": 20,
      "metadata": {
        "colab": {
          "base_uri": "https://localhost:8080/"
        },
        "id": "B-3KSrcysfM0",
        "outputId": "3365d91c-2075-4fd7-8c60-e0b040bc706b",
        "gather": {
          "logged": 1719950286620
        }
      }
    },
    {
      "cell_type": "code",
      "source": [
        "# Compare the number of headlines for each day\n",
        "print(max(len(i) for i in headlines))\n",
        "print(min(len(i) for i in headlines))\n",
        "\n",
        "\n",
        "# Calculate the number of headlines for each day\n",
        "headline_counts = [len(day) for day in headlines]\n",
        "\n",
        "# Calculate the mean number of headlines per day\n",
        "mean_headlines = sum(headline_counts) / len(headline_counts)\n",
        "\n",
        "# Print the mean number of headlines per day\n",
        "print(mean_headlines)"
      ],
      "outputs": [
        {
          "output_type": "stream",
          "name": "stdout",
          "text": "706\n1\n476.7542892156863\n"
        }
      ],
      "execution_count": 21,
      "metadata": {
        "colab": {
          "base_uri": "https://localhost:8080/"
        },
        "id": "5goAZDams5Ph",
        "outputId": "e04fd82d-08c2-4c2a-c807-9d759e073000",
        "gather": {
          "logged": 1719950287411
        }
      }
    },
    {
      "cell_type": "code",
      "source": [
        "# A list of contractions from http://stackoverflow.com/questions/19790188/expanding-english-language-contractions-in-python\n",
        "contractions = {\n",
        "\"ain't\": \"am not\",\n",
        "\"aren't\": \"are not\",\n",
        "\"can't\": \"cannot\",\n",
        "\"can't've\": \"cannot have\",\n",
        "\"'cause\": \"because\",\n",
        "\"could've\": \"could have\",\n",
        "\"couldn't\": \"could not\",\n",
        "\"couldn't've\": \"could not have\",\n",
        "\"didn't\": \"did not\",\n",
        "\"doesn't\": \"does not\",\n",
        "\"don't\": \"do not\",\n",
        "\"hadn't\": \"had not\",\n",
        "\"hadn't've\": \"had not have\",\n",
        "\"hasn't\": \"has not\",\n",
        "\"haven't\": \"have not\",\n",
        "\"he'd\": \"he would\",\n",
        "\"he'd've\": \"he would have\",\n",
        "\"he'll\": \"he will\",\n",
        "\"he's\": \"he is\",\n",
        "\"how'd\": \"how did\",\n",
        "\"how'll\": \"how will\",\n",
        "\"how's\": \"how is\",\n",
        "\"i'd\": \"i would\",\n",
        "\"i'll\": \"i will\",\n",
        "\"i'm\": \"i am\",\n",
        "\"i've\": \"i have\",\n",
        "\"isn't\": \"is not\",\n",
        "\"it'd\": \"it would\",\n",
        "\"it'll\": \"it will\",\n",
        "\"it's\": \"it is\",\n",
        "\"let's\": \"let us\",\n",
        "\"ma'am\": \"madam\",\n",
        "\"mayn't\": \"may not\",\n",
        "\"might've\": \"might have\",\n",
        "\"mightn't\": \"might not\",\n",
        "\"must've\": \"must have\",\n",
        "\"mustn't\": \"must not\",\n",
        "\"needn't\": \"need not\",\n",
        "\"oughtn't\": \"ought not\",\n",
        "\"shan't\": \"shall not\",\n",
        "\"sha'n't\": \"shall not\",\n",
        "\"she'd\": \"she would\",\n",
        "\"she'll\": \"she will\",\n",
        "\"she's\": \"she is\",\n",
        "\"should've\": \"should have\",\n",
        "\"shouldn't\": \"should not\",\n",
        "\"that'd\": \"that would\",\n",
        "\"that's\": \"that is\",\n",
        "\"there'd\": \"there had\",\n",
        "\"there's\": \"there is\",\n",
        "\"they'd\": \"they would\",\n",
        "\"they'll\": \"they will\",\n",
        "\"they're\": \"they are\",\n",
        "\"they've\": \"they have\",\n",
        "\"wasn't\": \"was not\",\n",
        "\"we'd\": \"we would\",\n",
        "\"we'll\": \"we will\",\n",
        "\"we're\": \"we are\",\n",
        "\"we've\": \"we have\",\n",
        "\"weren't\": \"were not\",\n",
        "\"what'll\": \"what will\",\n",
        "\"what're\": \"what are\",\n",
        "\"what's\": \"what is\",\n",
        "\"what've\": \"what have\",\n",
        "\"where'd\": \"where did\",\n",
        "\"where's\": \"where is\",\n",
        "\"who'll\": \"who will\",\n",
        "\"who's\": \"who is\",\n",
        "\"won't\": \"will not\",\n",
        "\"wouldn't\": \"would not\",\n",
        "\"you'd\": \"you would\",\n",
        "\"you'll\": \"you will\",\n",
        "\"you're\": \"you are\"\n",
        "}"
      ],
      "outputs": [],
      "execution_count": 22,
      "metadata": {
        "id": "OcGxs_CtuTzJ",
        "gather": {
          "logged": 1719950288095
        }
      }
    },
    {
      "cell_type": "code",
      "source": [
        "def clean_text(text, remove_stopwords = True):\n",
        "    '''Remove unwanted characters and format the text to create fewer nulls word embeddings'''\n",
        "\n",
        "    # Convert words to lower case\n",
        "    text = text.lower()\n",
        "\n",
        "    # Replace contractions with their longer forms\n",
        "    if True:\n",
        "        text = text.split()\n",
        "        new_text = []\n",
        "        for word in text:\n",
        "            if word in contractions:\n",
        "                new_text.append(contractions[word])\n",
        "            else:\n",
        "                new_text.append(word)\n",
        "        text = \" \".join(new_text)\n",
        "\n",
        "    # Format words and remove unwanted characters\n",
        "    text = re.sub(r'&amp;', '', text)\n",
        "    text = re.sub(r'0,0', '00', text)\n",
        "    text = re.sub(r'[_\"\\-;%()|.,+&=*%.,!?:#@\\[\\]]', ' ', text)\n",
        "    text = re.sub(r'\\'', ' ', text)\n",
        "    text = re.sub(r'\\$', ' $ ', text)\n",
        "    text = re.sub(r'u s ', ' united states ', text)\n",
        "    text = re.sub(r'u n ', ' united nations ', text)\n",
        "    text = re.sub(r'u k ', ' united kingdom ', text)\n",
        "    text = re.sub(r'j k ', ' jk ', text)\n",
        "    text = re.sub(r' s ', ' ', text)\n",
        "    text = re.sub(r' yr ', ' year ', text)\n",
        "    text = re.sub(r' l g b t ', ' lgbt ', text)\n",
        "    text = re.sub(r'0km ', '0 km ', text)\n",
        "\n",
        "    # Optionally, remove stop words\n",
        "    if remove_stopwords:\n",
        "        text = text.split()\n",
        "        stops = set(stopwords.words(\"english\"))\n",
        "        text = [w for w in text if not w in stops]\n",
        "        text = \" \".join(text)\n",
        "\n",
        "    return text"
      ],
      "outputs": [],
      "execution_count": 23,
      "metadata": {
        "id": "CPfcOlHCvrYm",
        "gather": {
          "logged": 1719950288876
        }
      }
    },
    {
      "cell_type": "code",
      "source": [
        "# Clean the headlines\n",
        "clean_headlines = []\n",
        "\n",
        "for daily_headlines in headlines:\n",
        "    clean_daily_headlines = []\n",
        "    for headline in daily_headlines:\n",
        "        clean_daily_headlines.append(clean_text(headline))\n",
        "    clean_headlines.append(clean_daily_headlines)"
      ],
      "outputs": [],
      "execution_count": 24,
      "metadata": {
        "id": "TNrChYx6wCs8",
        "gather": {
          "logged": 1719950512937
        }
      }
    },
    {
      "cell_type": "code",
      "source": [
        "# Take a look at some headlines to ensure everything was cleaned well\n",
        "clean_headlines[0]"
      ],
      "outputs": [
        {
          "output_type": "execute_result",
          "execution_count": 25,
          "data": {
            "text/plain": "['powerless north india gropes dark',\n 'think laxman tells sangh parivar',\n 'hurriyat undecided team pakistan',\n 'vajpayee wants put reforms fast track',\n 'stephen hawking keeps date mumbai',\n 'anti hrithik anti hopelessness',\n 'govt plans stadium near panaji',\n 'bjp volte face casinos cong',\n '3 watershed projects anvil',\n 'report yet fire udyog bhavan',\n 'king five star industry',\n 'petrol pump sealed selling adulterated fuel',\n 'milk price rs 1 per litre',\n 'congress house smoking zone',\n 'rural weightage govt reassures governor',\n 'bride gets honeymoon surprise chopper ride',\n 'hangover sign alcoholicism',\n 'almatti ap wait watch',\n '10 year old girl missing',\n 'hear messages heart',\n 'dance like one watching',\n 'reel love real love',\n 'power row bribe attempt charge denied',\n 'lakshamma cry help heard',\n 'shopping time newborn',\n 'con games catwalk',\n 'help us',\n 'noisy spots hurting ears',\n 'flat tyres flat music famous faces',\n 'yogananda birth anniversary fete dec 5',\n 'tumkur gets 243 borewells',\n '2000 workers hit lockout',\n 'child project officer held fraud',\n 'bcc holds talks budget',\n 'skybus metro trains agenda',\n 'disciple awaits miracle goddess',\n 'toi scribe among press academy awardees',\n 'talent search exams april 29',\n 'ban orders extended ranebennur',\n 'army turns hal lancer supply',\n 'devdas jinxed']"
          },
          "metadata": {}
        }
      ],
      "execution_count": 25,
      "metadata": {
        "colab": {
          "base_uri": "https://localhost:8080/"
        },
        "id": "0znJoxxmwHfA",
        "outputId": "5d0345bd-bcf2-4dda-a334-d20f60ce3168",
        "gather": {
          "logged": 1719950513756
        }
      }
    },
    {
      "cell_type": "code",
      "source": [
        "# Find the number of times each word was used and the size of the vocabulary\n",
        "word_counts = {}\n",
        "\n",
        "for date in clean_headlines:\n",
        "    for headline in date:\n",
        "        for word in headline.split():\n",
        "            if word not in word_counts:\n",
        "                word_counts[word] = 1\n",
        "            else:\n",
        "                word_counts[word] += 1\n",
        "\n",
        "print(\"Size of Vocabulary:\", len(word_counts))"
      ],
      "outputs": [
        {
          "output_type": "stream",
          "name": "stdout",
          "text": "Size of Vocabulary: 179346\n"
        }
      ],
      "execution_count": 26,
      "metadata": {
        "colab": {
          "base_uri": "https://localhost:8080/"
        },
        "id": "g65w7hGTyEtG",
        "outputId": "96aad1af-dcb1-4176-e978-dd64cdf92252",
        "gather": {
          "logged": 1719950517132
        }
      }
    },
    {
      "cell_type": "code",
      "source": [
        "import numpy as np\n",
        "import csv\n",
        "from tqdm import tqdm\n",
        "\n",
        "def load_embeddings(file_path):\n",
        "    with open(file_path, encoding='utf-8') as f:\n",
        "        for line in f:\n",
        "            line = line.replace('\\x00', '')  # Remove null characters\n",
        "            values = line.split(' ')\n",
        "            word = values[0]\n",
        "            embedding = np.asarray(values[1:], dtype='float32')\n",
        "            yield word, embedding\n",
        "\n",
        "embeddings_index = {}\n",
        "for word, embedding in tqdm(load_embeddings('glove.840B.300d.txt'), desc=\"Processing GloVe embeddings\"):\n",
        "    embeddings_index[word] = embedding\n",
        "\n",
        "print('Word embeddings:', len(embeddings_index))\n"
      ],
      "outputs": [
        {
          "output_type": "stream",
          "name": "stderr",
          "text": "Processing GloVe embeddings: 1152987it [01:45, 10923.72it/s]\n"
        },
        {
          "output_type": "stream",
          "name": "stdout",
          "text": "Word embeddings: 1152986\n"
        }
      ],
      "execution_count": 27,
      "metadata": {
        "id": "VxAwMCp5yVME",
        "gather": {
          "logged": 1719950622855
        }
      }
    },
    {
      "cell_type": "code",
      "source": [
        "# Find the number of words that are missing from GloVe, and are used more than our threshold.\n",
        "missing_words = 0\n",
        "threshold = 10\n",
        "\n",
        "for word, count in word_counts.items():\n",
        "    if count > threshold:\n",
        "        if word not in embeddings_index:\n",
        "            missing_words += 1\n",
        "            \n",
        "missing_ratio = round(missing_words/len(word_counts),4)*100\n",
        "            \n",
        "print(\"Number of words missing from GloVe:\", missing_words)\n",
        "print(\"Percent of words that are missing from vocabulary: {}%\".format(missing_ratio))"
      ],
      "outputs": [
        {
          "output_type": "stream",
          "name": "stdout",
          "text": "Number of words missing from GloVe: 10561\nPercent of words that are missing from vocabulary: 5.89%\n"
        }
      ],
      "execution_count": 28,
      "metadata": {
        "jupyter": {
          "source_hidden": false,
          "outputs_hidden": false
        },
        "nteract": {
          "transient": {
            "deleting": false
          }
        },
        "gather": {
          "logged": 1719950623745
        }
      }
    },
    {
      "cell_type": "code",
      "source": [
        "# Limit the vocab that we will use to words that appear ≥ threshold or are in GloVe\n",
        "\n",
        "#dictionary to convert words to integers\n",
        "vocab_to_int = {} \n",
        "\n",
        "value = 0\n",
        "for word, count in word_counts.items():\n",
        "    if count >= threshold or word in embeddings_index:\n",
        "        vocab_to_int[word] = value\n",
        "        value += 1\n",
        "\n",
        "# Special tokens that will be added to our vocab\n",
        "codes = [\"<UNK>\",\"<PAD>\"]   \n",
        "\n",
        "# Add codes to vocab\n",
        "for code in codes:\n",
        "    vocab_to_int[code] = len(vocab_to_int)\n",
        "\n",
        "# Dictionary to convert integers to words\n",
        "int_to_vocab = {}\n",
        "for word, value in vocab_to_int.items():\n",
        "    int_to_vocab[value] = word\n",
        "\n",
        "usage_ratio = round(len(vocab_to_int) / len(word_counts),4)*100\n",
        "\n",
        "print(\"Total Number of Unique Words:\", len(word_counts))\n",
        "print(\"Number of Words we will use:\", len(vocab_to_int))\n",
        "print(\"Percent of Words we will use: {}%\".format(usage_ratio))"
      ],
      "outputs": [
        {
          "output_type": "stream",
          "name": "stdout",
          "text": "Total Number of Unique Words: 179346\nNumber of Words we will use: 87336\nPercent of Words we will use: 48.699999999999996%\n"
        }
      ],
      "execution_count": 29,
      "metadata": {
        "jupyter": {
          "source_hidden": false,
          "outputs_hidden": false
        },
        "nteract": {
          "transient": {
            "deleting": false
          }
        },
        "gather": {
          "logged": 1719950624505
        }
      }
    },
    {
      "cell_type": "code",
      "source": [
        "# Need to use 300 for embedding dimensions to match GloVe's vectors.\n",
        "embedding_dim = 300\n",
        "\n",
        "nb_words = len(vocab_to_int)\n",
        "# Create matrix with default values of zero\n",
        "word_embedding_matrix = np.zeros((nb_words, embedding_dim))\n",
        "for word, i in vocab_to_int.items():\n",
        "    if word in embeddings_index:\n",
        "        word_embedding_matrix[i] = embeddings_index[word]\n",
        "    else:\n",
        "        # If word not in GloVe, create a random embedding for it\n",
        "        new_embedding = np.array(np.random.uniform(-1.0, 1.0, embedding_dim))\n",
        "        embeddings_index[word] = new_embedding\n",
        "        word_embedding_matrix[i] = new_embedding\n",
        "\n",
        "# Check if value matches len(vocab_to_int)\n",
        "print(len(word_embedding_matrix))"
      ],
      "outputs": [
        {
          "output_type": "stream",
          "name": "stdout",
          "text": "87336\n"
        }
      ],
      "execution_count": 30,
      "metadata": {
        "jupyter": {
          "source_hidden": false,
          "outputs_hidden": false
        },
        "nteract": {
          "transient": {
            "deleting": false
          }
        },
        "gather": {
          "logged": 1719950625300
        }
      }
    },
    {
      "cell_type": "markdown",
      "source": [
        "##### Note: The embeddings will be updated as the model trains, so our new 'random' embeddings will be more accurate by the end of training. This is also why we want to only use words that appear at least 5 times. By having the model see the word numerous times it will be better able to understand what it means."
      ],
      "metadata": {
        "nteract": {
          "transient": {
            "deleting": false
          }
        }
      }
    },
    {
      "cell_type": "code",
      "source": [
        "# Change the text from words to integers\n",
        "# If word is not in vocab, replace it with <UNK> (unknown)\n",
        "word_count = 0\n",
        "unk_count = 0\n",
        "\n",
        "int_headlines = []\n",
        "\n",
        "for date in clean_headlines:\n",
        "    int_daily_headlines = []\n",
        "    for headline in date:\n",
        "        int_headline = []\n",
        "        for word in headline.split():\n",
        "            word_count += 1\n",
        "            if word in vocab_to_int:\n",
        "                int_headline.append(vocab_to_int[word])\n",
        "            else:\n",
        "                int_headline.append(vocab_to_int[\"<UNK>\"])\n",
        "                unk_count += 1\n",
        "        int_daily_headlines.append(int_headline)\n",
        "    int_headlines.append(int_daily_headlines)\n",
        "\n",
        "unk_percent = round(unk_count/word_count,4)*100\n",
        "\n",
        "print(\"Total number of words in headlines:\", word_count)\n",
        "print(\"Total number of UNKs in headlines:\", unk_count)\n",
        "print(\"Percent of words that are UNK: {}%\".format(unk_percent))"
      ],
      "outputs": [
        {
          "output_type": "stream",
          "name": "stdout",
          "text": "Total number of words in headlines: 13968945\nTotal number of UNKs in headlines: 175981\nPercent of words that are UNK: 1.26%\n"
        }
      ],
      "execution_count": 31,
      "metadata": {
        "jupyter": {
          "source_hidden": false,
          "outputs_hidden": false
        },
        "nteract": {
          "transient": {
            "deleting": false
          }
        },
        "gather": {
          "logged": 1719950633419
        }
      }
    },
    {
      "cell_type": "code",
      "source": [
        "# Find the length of headlines\n",
        "lengths = []\n",
        "for date in int_headlines:\n",
        "    for headline in date:\n",
        "        lengths.append(len(headline))\n",
        "\n",
        "# Create a dataframe so that the values can be inspected\n",
        "lengths = pd.DataFrame(lengths, columns=['counts'])"
      ],
      "outputs": [],
      "execution_count": 32,
      "metadata": {
        "jupyter": {
          "source_hidden": false,
          "outputs_hidden": false
        },
        "nteract": {
          "transient": {
            "deleting": false
          }
        },
        "gather": {
          "logged": 1719950634076
        }
      }
    },
    {
      "cell_type": "code",
      "source": [
        "lengths.describe()"
      ],
      "outputs": [
        {
          "output_type": "execute_result",
          "execution_count": 33,
          "data": {
            "text/plain": "             counts\ncount  2.334189e+06\nmean   5.984496e+00\nstd    2.101246e+00\nmin    0.000000e+00\n25%    5.000000e+00\n50%    6.000000e+00\n75%    7.000000e+00\nmax    2.200000e+01",
            "text/html": "<div>\n<style scoped>\n    .dataframe tbody tr th:only-of-type {\n        vertical-align: middle;\n    }\n\n    .dataframe tbody tr th {\n        vertical-align: top;\n    }\n\n    .dataframe thead th {\n        text-align: right;\n    }\n</style>\n<table border=\"1\" class=\"dataframe\">\n  <thead>\n    <tr style=\"text-align: right;\">\n      <th></th>\n      <th>counts</th>\n    </tr>\n  </thead>\n  <tbody>\n    <tr>\n      <th>count</th>\n      <td>2.334189e+06</td>\n    </tr>\n    <tr>\n      <th>mean</th>\n      <td>5.984496e+00</td>\n    </tr>\n    <tr>\n      <th>std</th>\n      <td>2.101246e+00</td>\n    </tr>\n    <tr>\n      <th>min</th>\n      <td>0.000000e+00</td>\n    </tr>\n    <tr>\n      <th>25%</th>\n      <td>5.000000e+00</td>\n    </tr>\n    <tr>\n      <th>50%</th>\n      <td>6.000000e+00</td>\n    </tr>\n    <tr>\n      <th>75%</th>\n      <td>7.000000e+00</td>\n    </tr>\n    <tr>\n      <th>max</th>\n      <td>2.200000e+01</td>\n    </tr>\n  </tbody>\n</table>\n</div>"
          },
          "metadata": {}
        }
      ],
      "execution_count": 33,
      "metadata": {
        "jupyter": {
          "source_hidden": false,
          "outputs_hidden": false
        },
        "nteract": {
          "transient": {
            "deleting": false
          }
        },
        "gather": {
          "logged": 1719950634726
        }
      }
    },
    {
      "cell_type": "code",
      "source": [
        "# Limit the length of a day's news to 200 words, and the length of any headline to 16 words.\n",
        "# These values are chosen to not have an excessively long training time and \n",
        "# balance the number of headlines used and the number of words from each headline.\n",
        "max_headline_length = 16\n",
        "max_daily_length = 200\n",
        "pad_headlines = []\n",
        "\n",
        "for date in int_headlines:\n",
        "    pad_daily_headlines = []\n",
        "    for headline in date:\n",
        "        # Add headline if it is less than max length\n",
        "        if len(headline) <= max_headline_length:\n",
        "            for word in headline:\n",
        "                pad_daily_headlines.append(word)\n",
        "        # Limit headline if it is more than max length  \n",
        "        else:\n",
        "            headline = headline[:max_headline_length]\n",
        "            for word in headline:\n",
        "                pad_daily_headlines.append(word)\n",
        "    \n",
        "    # Pad daily_headlines if they are less than max length\n",
        "    if len(pad_daily_headlines) < max_daily_length:\n",
        "        for i in range(max_daily_length-len(pad_daily_headlines)):\n",
        "            pad = vocab_to_int[\"<PAD>\"]\n",
        "            pad_daily_headlines.append(pad)\n",
        "    # Limit daily_headlines if they are more than max length\n",
        "    else:\n",
        "        pad_daily_headlines = pad_daily_headlines[:max_daily_length]\n",
        "    pad_headlines.append(pad_daily_headlines)"
      ],
      "outputs": [],
      "execution_count": 34,
      "metadata": {
        "jupyter": {
          "source_hidden": false,
          "outputs_hidden": false
        },
        "nteract": {
          "transient": {
            "deleting": false
          }
        },
        "gather": {
          "logged": 1719950635828
        }
      }
    },
    {
      "cell_type": "code",
      "source": [
        "# Normalize opening prices (target values)\n",
        "max_price = max(price)\n",
        "min_price = min(price)\n",
        "mean_price = np.mean(price)\n",
        "def normalize(price):\n",
        "    return ((price-min_price)/(max_price-min_price))"
      ],
      "outputs": [],
      "execution_count": 35,
      "metadata": {
        "jupyter": {
          "source_hidden": false,
          "outputs_hidden": false
        },
        "nteract": {
          "transient": {
            "deleting": false
          }
        },
        "gather": {
          "logged": 1719950636445
        }
      }
    },
    {
      "cell_type": "code",
      "source": [
        "norm_price = []\n",
        "for p in price:\n",
        "    norm_price.append(normalize(p))"
      ],
      "outputs": [],
      "execution_count": 36,
      "metadata": {
        "jupyter": {
          "source_hidden": false,
          "outputs_hidden": false
        },
        "nteract": {
          "transient": {
            "deleting": false
          }
        },
        "gather": {
          "logged": 1719950637061
        }
      }
    },
    {
      "cell_type": "code",
      "source": [
        "# Check that normalization worked well\n",
        "print(min(norm_price))\n",
        "print(max(norm_price))\n",
        "print(np.mean(norm_price))"
      ],
      "outputs": [
        {
          "output_type": "stream",
          "name": "stdout",
          "text": "0.0\n1.0\n0.5549642121685825\n"
        }
      ],
      "execution_count": 37,
      "metadata": {
        "jupyter": {
          "source_hidden": false,
          "outputs_hidden": false
        },
        "nteract": {
          "transient": {
            "deleting": false
          }
        },
        "gather": {
          "logged": 1719950637789
        }
      }
    },
    {
      "cell_type": "code",
      "source": [
        "# Split data into training and testing sets.\n",
        "# Validating data will be created during training.\n",
        "x_train, x_test, y_train, y_test = train_test_split(pad_headlines, norm_price, test_size = 0.15, random_state = 2)\n",
        "\n",
        "x_train = np.array(x_train)\n",
        "x_test = np.array(x_test)\n",
        "y_train = np.array(y_train)\n",
        "y_test = np.array(y_test)"
      ],
      "outputs": [],
      "execution_count": 38,
      "metadata": {
        "jupyter": {
          "source_hidden": false,
          "outputs_hidden": false
        },
        "nteract": {
          "transient": {
            "deleting": false
          }
        },
        "gather": {
          "logged": 1719950638510
        }
      }
    },
    {
      "cell_type": "code",
      "source": [
        "# Check the lengths\n",
        "print(len(x_train))\n",
        "print(len(x_test))"
      ],
      "outputs": [
        {
          "output_type": "stream",
          "name": "stdout",
          "text": "4161\n735\n"
        }
      ],
      "execution_count": 39,
      "metadata": {
        "jupyter": {
          "source_hidden": false,
          "outputs_hidden": false
        },
        "nteract": {
          "transient": {
            "deleting": false
          }
        },
        "gather": {
          "logged": 1719950639170
        }
      }
    },
    {
      "cell_type": "code",
      "source": [
        "filter_length1 = 3\n",
        "filter_length2 = 5\n",
        "dropout = 0.5\n",
        "learning_rate = 0.001\n",
        "weights = initializers.TruncatedNormal(mean=0.0, stddev=0.1, seed=2)\n",
        "nb_filter = 16\n",
        "rnn_output_size = 128\n",
        "hidden_dims = 128\n",
        "wider = True\n",
        "deeper = True\n",
        "\n",
        "if wider == True:\n",
        "    nb_filter *= 2\n",
        "    rnn_output_size *= 2\n",
        "    hidden_dims *= 2\n",
        "\n",
        "\n",
        "def build_model():\n",
        "    \n",
        "    model1 = Sequential()\n",
        "    \n",
        "    model1.add(Embedding(nb_words, \n",
        "                         embedding_dim,\n",
        "                         weights=[word_embedding_matrix], \n",
        "                         input_length=max_daily_length))\n",
        "    model1.add(Dropout(dropout))\n",
        "    \n",
        "    model1.add(Convolution1D(filters = nb_filter, \n",
        "                             kernel_size = filter_length1, \n",
        "                             padding = 'same',\n",
        "                            activation = 'relu'))\n",
        "    model1.add(Dropout(dropout))\n",
        "    \n",
        "    if deeper == True:\n",
        "        model1.add(Convolution1D(filters = nb_filter, \n",
        "                                 kernel_size = filter_length1, \n",
        "                                 padding = 'same',\n",
        "                                activation = 'relu'))\n",
        "        model1.add(Dropout(dropout))\n",
        "    \n",
        "    model1.add(LSTM(rnn_output_size, \n",
        "                   activation=None,\n",
        "                   kernel_initializer=weights,\n",
        "                   dropout = dropout))\n",
        "    \n",
        "    ####\n",
        "\n",
        "    model2 = Sequential()\n",
        "    \n",
        "    model2.add(Embedding(nb_words, \n",
        "                         embedding_dim,\n",
        "                         weights=[word_embedding_matrix], \n",
        "                         input_length=max_daily_length))\n",
        "    model2.add(Dropout(dropout))\n",
        "    \n",
        "    \n",
        "    model2.add(Convolution1D(filters = nb_filter, \n",
        "                             kernel_size = filter_length2, \n",
        "                             padding = 'same',\n",
        "                             activation = 'relu'))\n",
        "    model2.add(Dropout(dropout))\n",
        "    \n",
        "    if deeper == True:\n",
        "        model2.add(Convolution1D(filters = nb_filter, \n",
        "                                 kernel_size = filter_length2, \n",
        "                                 padding = 'same',\n",
        "                                 activation = 'relu'))\n",
        "        model2.add(Dropout(dropout))\n",
        "    \n",
        "    model2.add(LSTM(rnn_output_size, \n",
        "                    activation=None,\n",
        "                    kernel_initializer=weights,\n",
        "                    dropout = dropout))\n",
        "    \n",
        "    ####\n",
        "\n",
        "    model = Sequential()\n",
        "\n",
        "    model = add([model1.output, model2.output])\n",
        "    model = Dense(hidden_dims, kernel_initializer=weights)(model)\n",
        "    model = Dropout(dropout)(model)\n",
        "    if deeper == True:\n",
        "        model = Dense(hidden_dims//2, kernel_initializer=weights)(model)\n",
        "        model = Dropout(dropout)(model)\n",
        "    model = Dense(1, kernel_initializer = weights, name='output')(model)\n",
        "    new_model = Model([model1.input, model2.input], model)\n",
        "    new_model.compile(loss='mean_squared_error', optimizer=Adam(lr=learning_rate, clipvalue=1.0))\n",
        "    return new_model"
      ],
      "outputs": [],
      "execution_count": 40,
      "metadata": {
        "jupyter": {
          "source_hidden": false,
          "outputs_hidden": false
        },
        "nteract": {
          "transient": {
            "deleting": false
          }
        },
        "gather": {
          "logged": 1719950639781
        }
      }
    },
    {
      "cell_type": "code",
      "source": [
        "# Use grid search to help find a better model\n",
        "for deeper in [False]:\n",
        "    for wider in [True,False]:\n",
        "        for learning_rate in [0.001]:\n",
        "            for dropout in [0.3, 0.5]:\n",
        "                model = build_model()\n",
        "                print()\n",
        "                print(\"Current model: Deeper={}, Wider={}, LR={}, Dropout={}\".format(\n",
        "                    deeper,wider,learning_rate,dropout))\n",
        "                print()\n",
        "                save_best_weights = 'question_pairs_weights_deeper={}_wider={}_lr={}_dropout={}.h5'.format(\n",
        "                    deeper,wider,learning_rate,dropout)\n",
        "\n",
        "                callbacks = [ModelCheckpoint(save_best_weights, monitor='val_loss', save_best_only=True),\n",
        "                             EarlyStopping(monitor='val_loss', patience=5, verbose=1, mode='auto'),\n",
        "                             ReduceLROnPlateau(monitor='val_loss', factor=0.2, verbose=1, patience=3)]\n",
        "\n",
        "                history = model.fit([x_train,x_train],\n",
        "                                    y_train,\n",
        "                                    batch_size=128,\n",
        "                                    epochs=100,\n",
        "                                    validation_split=0.15,\n",
        "                                    verbose=True,\n",
        "                                    shuffle=True,\n",
        "                                    callbacks = callbacks)"
      ],
      "outputs": [
        {
          "output_type": "stream",
          "name": "stderr",
          "text": "2024-07-02 20:04:01.042177: E external/local_xla/xla/stream_executor/cuda/cuda_driver.cc:274] failed call to cuInit: CUDA_ERROR_NO_DEVICE: no CUDA-capable device is detected\nWARNING:absl:`lr` is deprecated in Keras optimizer, please use `learning_rate` or use the legacy optimizer, e.g.,tf.keras.optimizers.legacy.Adam.\n/anaconda/envs/azureml_py38_PT_TF/lib/python3.9/site-packages/keras/src/engine/training.py:3103: UserWarning: You are saving your model as an HDF5 file via `model.save()`. This file format is considered legacy. We recommend using instead the native Keras format, e.g. `model.save('my_model.keras')`.\n  saving_api.save_model(\nWARNING:absl:`lr` is deprecated in Keras optimizer, please use `learning_rate` or use the legacy optimizer, e.g.,tf.keras.optimizers.legacy.Adam.\nWARNING:absl:`lr` is deprecated in Keras optimizer, please use `learning_rate` or use the legacy optimizer, e.g.,tf.keras.optimizers.legacy.Adam.\nWARNING:absl:`lr` is deprecated in Keras optimizer, please use `learning_rate` or use the legacy optimizer, e.g.,tf.keras.optimizers.legacy.Adam.\n"
        },
        {
          "output_type": "stream",
          "name": "stdout",
          "text": "\nCurrent model: Deeper=False, Wider=True, LR=0.001, Dropout=0.3\n\nEpoch 1/100\n28/28 [==============================] - 42s 1s/step - loss: 0.4393 - val_loss: 0.0405 - lr: 0.0010\b\b\b\b\b\b\b\b\b\b\b\b\b\b\b\b\b\b\b\b\b\b\b\b\b\b\b\b\b\b\b\nEpoch 2/100\n28/28 [==============================] - 38s 1s/step - loss: 0.0320 - val_loss: 0.0171 - lr: 0.0010\b\b\b\b\b\b\b\b\b\b\b\b\b\b\b\b\b\b\b\b\b\b\b\b\b\b\b\b\b\nEpoch 3/100\n28/28 [==============================] - 38s 1s/step - loss: 0.0220 - val_loss: 0.0107 - lr: 0.0010\b\b\b\b\b\b\b\b\b\b\b\b\b\b\b\b\b\b\b\b\b\b\b\b\b\b\b\b\b\nEpoch 4/100\n28/28 [==============================] - 38s 1s/step - loss: 0.0190 - val_loss: 0.0102 - lr: 0.0010\b\b\b\b\b\b\b\b\b\b\b\b\b\b\b\b\b\b\b\b\b\b\b\b\b\b\b\b\b\nEpoch 5/100\n28/28 [==============================] - 38s 1s/step - loss: 0.0164 - val_loss: 0.0082 - lr: 0.0010\b\b\b\b\b\b\b\b\b\b\b\b\b\b\b\b\b\b\b\b\b\b\b\b\b\b\b\b\b\nEpoch 6/100\n28/28 [==============================] - 39s 1s/step - loss: 0.0144 - val_loss: 0.0060 - lr: 0.0010\b\b\b\b\b\b\b\b\b\b\b\b\b\b\b\b\b\b\b\b\b\b\b\b\b\b\b\b\b\nEpoch 7/100\n28/28 [==============================] - 38s 1s/step - loss: 0.0132 - val_loss: 0.0050 - lr: 0.0010\b\b\b\b\b\b\b\b\b\b\b\b\b\b\b\b\b\b\b\b\b\b\b\b\b\b\b\b\b\nEpoch 8/100\n28/28 [==============================] - 34s 1s/step - loss: 0.0122 - val_loss: 0.0063 - lr: 0.0010\b\b\b\b\b\b\b\b\b\b\b\b\b\b\b\b\b\b\b\b\b\b\b\b\b\b\b\b\b\nEpoch 9/100\n28/28 [==============================] - 35s 1s/step - loss: 0.0116 - val_loss: 0.0054 - lr: 0.0010\b\b\b\b\b\b\b\b\b\b\b\b\b\b\b\b\b\b\b\b\b\b\b\b\b\b\b\b\b\nEpoch 10/100\n28/28 [==============================] - 38s 1s/step - loss: 0.0105 - val_loss: 0.0043 - lr: 0.0010\b\b\b\b\b\b\b\b\b\b\b\b\b\b\b\b\b\b\b\b\b\b\b\b\b\b\b\b\b\nEpoch 11/100\n28/28 [==============================] - 38s 1s/step - loss: 0.0099 - val_loss: 0.0041 - lr: 0.0010\b\b\b\b\b\b\b\b\b\b\b\b\b\b\b\b\b\b\b\b\b\b\b\b\b\b\b\b\b\nEpoch 12/100\n28/28 [==============================] - 38s 1s/step - loss: 0.0098 - val_loss: 0.0034 - lr: 0.0010\b\b\b\b\b\b\b\b\b\b\b\b\b\b\b\b\b\b\b\b\b\b\b\b\b\b\b\b\b\nEpoch 13/100\n28/28 [==============================] - 34s 1s/step - loss: 0.0086 - val_loss: 0.0038 - lr: 0.0010\b\b\b\b\b\b\b\b\b\b\b\b\b\b\b\b\b\b\b\b\b\b\b\b\b\b\b\b\b\nEpoch 14/100\n28/28 [==============================] - 34s 1s/step - loss: 0.0084 - val_loss: 0.0042 - lr: 0.0010\b\b\b\b\b\b\b\b\b\b\b\b\b\b\b\b\b\b\b\b\b\b\b\b\b\b\b\b\b\nEpoch 15/100\n28/28 [==============================] - ETA: 0s - loss: 0.0081\b\b\b\b\b\b\b\b\b\b\b\b\b\b\b\b\b\b\b\b\b\b\b\b\b\b\b\b\b\b\b\b\b\b\b\b\b\b\b\b\b\b\b\b\b\b\b\b\b\b\b\b\b\b\b\b\b\b\b\b\b\b\b\b\b\nEpoch 15: ReduceLROnPlateau reducing learning rate to 0.00020000000949949026.\n28/28 [==============================] - 34s 1s/step - loss: 0.0081 - val_loss: 0.0039 - lr: 0.0010\nEpoch 16/100\n28/28 [==============================] - 38s 1s/step - loss: 0.0079 - val_loss: 0.0031 - lr: 2.0000e-04\b\b\b\b\b\b\b\b\b\b\b\b\b\b\b\b\b\b\b\b\b\b\b\b\b\nEpoch 17/100\n28/28 [==============================] - 34s 1s/step - loss: 0.0075 - val_loss: 0.0031 - lr: 2.0000e-04\b\b\b\b\b\b\b\b\b\b\b\b\b\b\b\b\b\b\b\b\b\b\b\b\b\nEpoch 18/100\n28/28 [==============================] - 38s 1s/step - loss: 0.0072 - val_loss: 0.0030 - lr: 2.0000e-04\b\b\b\b\b\b\b\b\b\b\b\b\b\b\b\b\b\b\b\b\b\b\b\b\b\nEpoch 19/100\n28/28 [==============================] - 35s 1s/step - loss: 0.0072 - val_loss: 0.0030 - lr: 2.0000e-04\b\b\b\b\b\b\b\b\b\b\b\b\b\b\b\b\b\b\b\b\b\b\b\b\b\nEpoch 20/100\n28/28 [==============================] - 38s 1s/step - loss: 0.0072 - val_loss: 0.0029 - lr: 2.0000e-04\b\b\b\b\b\b\b\b\b\b\b\b\b\b\b\b\b\b\b\b\b\b\b\b\b\nEpoch 21/100\n28/28 [==============================] - ETA: 0s - loss: 0.0072\b\b\b\b\b\b\b\b\b\b\b\b\b\b\b\b\b\b\b\b\b\b\b\b\b\b\b\b\b\b\b\b\b\b\b\b\b\b\b\b\b\b\b\b\b\b\b\b\b\b\b\b\b\b\b\b\b\b\b\b\b\b\b\b\b\nEpoch 21: ReduceLROnPlateau reducing learning rate to 4.0000001899898055e-05.\n28/28 [==============================] - 34s 1s/step - loss: 0.0072 - val_loss: 0.0031 - lr: 2.0000e-04\nEpoch 22/100\n28/28 [==============================] - 35s 1s/step - loss: 0.0073 - val_loss: 0.0031 - lr: 4.0000e-05\b\b\b\b\b\b\b\b\b\b\b\b\b\b\b\b\b\b\b\b\b\b\b\b\b\nEpoch 23/100\n28/28 [==============================] - 34s 1s/step - loss: 0.0069 - val_loss: 0.0030 - lr: 4.0000e-05\b\b\b\b\b\b\b\b\b\b\b\b\b\b\b\b\b\b\b\b\b\b\b\b\b\nEpoch 24/100\n28/28 [==============================] - ETA: 0s - loss: 0.0069\b\b\b\b\b\b\b\b\b\b\b\b\b\b\b\b\b\b\b\b\b\b\b\b\b\b\b\b\b\b\b\b\b\b\b\b\b\b\b\b\b\b\b\b\b\b\b\b\b\b\b\b\b\b\b\b\b\b\b\b\b\b\b\b\b\nEpoch 24: ReduceLROnPlateau reducing learning rate to 8.000000525498762e-06.\n28/28 [==============================] - 35s 1s/step - loss: 0.0069 - val_loss: 0.0030 - lr: 4.0000e-05\nEpoch 25/100\n28/28 [==============================] - 35s 1s/step - loss: 0.0072 - val_loss: 0.0030 - lr: 8.0000e-06\b\b\b\b\b\b\b\b\b\b\b\b\b\b\b\b\b\b\b\b\b\b\b\b\b\nEpoch 25: early stopping\n\nCurrent model: Deeper=False, Wider=True, LR=0.001, Dropout=0.5\n\nEpoch 1/100\n28/28 [==============================] - 43s 1s/step - loss: 0.8223 - val_loss: 0.1339 - lr: 0.0010\b\b\b\b\b\b\b\b\b\b\b\b\b\b\b\b\b\b\b\b\b\b\b\b\b\b\b\b\b\b\b\nEpoch 2/100\n28/28 [==============================] - 38s 1s/step - loss: 0.1273 - val_loss: 0.0607 - lr: 0.0010\b\b\b\b\b\b\b\b\b\b\b\b\b\b\b\b\b\b\b\b\b\b\b\b\b\b\b\b\b\nEpoch 3/100\n28/28 [==============================] - 38s 1s/step - loss: 0.0896 - val_loss: 0.0418 - lr: 0.0010\b\b\b\b\b\b\b\b\b\b\b\b\b\b\b\b\b\b\b\b\b\b\b\b\b\b\b\b\b\nEpoch 4/100\n28/28 [==============================] - 38s 1s/step - loss: 0.0727 - val_loss: 0.0369 - lr: 0.0010\b\b\b\b\b\b\b\b\b\b\b\b\b\b\b\b\b\b\b\b\b\b\b\b\b\b\b\b\b\nEpoch 5/100\n28/28 [==============================] - 38s 1s/step - loss: 0.0554 - val_loss: 0.0246 - lr: 0.0010\b\b\b\b\b\b\b\b\b\b\b\b\b\b\b\b\b\b\b\b\b\b\b\b\b\b\b\b\b\nEpoch 6/100\n28/28 [==============================] - 38s 1s/step - loss: 0.0503 - val_loss: 0.0194 - lr: 0.0010\b\b\b\b\b\b\b\b\b\b\b\b\b\b\b\b\b\b\b\b\b\b\b\b\b\b\b\b\b\nEpoch 7/100\n28/28 [==============================] - 38s 1s/step - loss: 0.0419 - val_loss: 0.0168 - lr: 0.0010\b\b\b\b\b\b\b\b\b\b\b\b\b\b\b\b\b\b\b\b\b\b\b\b\b\b\b\b\b\nEpoch 8/100\n28/28 [==============================] - 38s 1s/step - loss: 0.0386 - val_loss: 0.0140 - lr: 0.0010\b\b\b\b\b\b\b\b\b\b\b\b\b\b\b\b\b\b\b\b\b\b\b\b\b\b\b\b\b\nEpoch 9/100\n28/28 [==============================] - 38s 1s/step - loss: 0.0345 - val_loss: 0.0097 - lr: 0.0010\b\b\b\b\b\b\b\b\b\b\b\b\b\b\b\b\b\b\b\b\b\b\b\b\b\b\b\b\b\nEpoch 10/100\n28/28 [==============================] - 38s 1s/step - loss: 0.0290 - val_loss: 0.0081 - lr: 0.0010\b\b\b\b\b\b\b\b\b\b\b\b\b\b\b\b\b\b\b\b\b\b\b\b\b\b\b\b\b\nEpoch 11/100\n28/28 [==============================] - 38s 1s/step - loss: 0.0259 - val_loss: 0.0073 - lr: 0.0010\b\b\b\b\b\b\b\b\b\b\b\b\b\b\b\b\b\b\b\b\b\b\b\b\b\b\b\b\b\nEpoch 12/100\n28/28 [==============================] - 38s 1s/step - loss: 0.0225 - val_loss: 0.0068 - lr: 0.0010\b\b\b\b\b\b\b\b\b\b\b\b\b\b\b\b\b\b\b\b\b\b\b\b\b\b\b\b\b\nEpoch 13/100\n28/28 [==============================] - 38s 1s/step - loss: 0.0216 - val_loss: 0.0059 - lr: 0.0010\b\b\b\b\b\b\b\b\b\b\b\b\b\b\b\b\b\b\b\b\b\b\b\b\b\b\b\b\b\nEpoch 14/100\n28/28 [==============================] - 38s 1s/step - loss: 0.0180 - val_loss: 0.0057 - lr: 0.0010\b\b\b\b\b\b\b\b\b\b\b\b\b\b\b\b\b\b\b\b\b\b\b\b\b\b\b\b\b\nEpoch 15/100\n28/28 [==============================] - 38s 1s/step - loss: 0.0173 - val_loss: 0.0049 - lr: 0.0010\b\b\b\b\b\b\b\b\b\b\b\b\b\b\b\b\b\b\b\b\b\b\b\b\b\b\b\b\b\nEpoch 16/100\n28/28 [==============================] - 38s 1s/step - loss: 0.0166 - val_loss: 0.0043 - lr: 0.0010\b\b\b\b\b\b\b\b\b\b\b\b\b\b\b\b\b\b\b\b\b\b\b\b\b\b\b\b\b\nEpoch 17/100\n28/28 [==============================] - 39s 1s/step - loss: 0.0151 - val_loss: 0.0036 - lr: 0.0010\b\b\b\b\b\b\b\b\b\b\b\b\b\b\b\b\b\b\b\b\b\b\b\b\b\b\b\b\b\nEpoch 18/100\n28/28 [==============================] - 35s 1s/step - loss: 0.0141 - val_loss: 0.0040 - lr: 0.0010\b\b\b\b\b\b\b\b\b\b\b\b\b\b\b\b\b\b\b\b\b\b\b\b\b\b\b\b\b\nEpoch 19/100\n28/28 [==============================] - 39s 1s/step - loss: 0.0135 - val_loss: 0.0034 - lr: 0.0010\b\b\b\b\b\b\b\b\b\b\b\b\b\b\b\b\b\b\b\b\b\b\b\b\b\b\b\b\b\nEpoch 20/100\n28/28 [==============================] - 38s 1s/step - loss: 0.0123 - val_loss: 0.0032 - lr: 0.0010\b\b\b\b\b\b\b\b\b\b\b\b\b\b\b\b\b\b\b\b\b\b\b\b\b\b\b\b\b\nEpoch 21/100\n28/28 [==============================] - 35s 1s/step - loss: 0.0114 - val_loss: 0.0034 - lr: 0.0010\b\b\b\b\b\b\b\b\b\b\b\b\b\b\b\b\b\b\b\b\b\b\b\b\b\b\b\b\b\nEpoch 22/100\n28/28 [==============================] - 38s 1s/step - loss: 0.0109 - val_loss: 0.0028 - lr: 0.0010\b\b\b\b\b\b\b\b\b\b\b\b\b\b\b\b\b\b\b\b\b\b\b\b\b\b\b\b\b\nEpoch 23/100\n28/28 [==============================] - 39s 1s/step - loss: 0.0105 - val_loss: 0.0028 - lr: 0.0010\b\b\b\b\b\b\b\b\b\b\b\b\b\b\b\b\b\b\b\b\b\b\b\b\b\b\b\b\b\nEpoch 24/100\n28/28 [==============================] - 35s 1s/step - loss: 0.0102 - val_loss: 0.0033 - lr: 0.0010\b\b\b\b\b\b\b\b\b\b\b\b\b\b\b\b\b\b\b\b\b\b\b\b\b\b\b\b\b\nEpoch 25/100\n28/28 [==============================] - ETA: 0s - loss: 0.0096\b\b\b\b\b\b\b\b\b\b\b\b\b\b\b\b\b\b\b\b\b\b\b\b\b\b\b\b\b\b\b\b\b\b\b\b\b\b\b\b\b\b\b\b\b\b\b\b\b\b\b\b\b\b\b\b\b\b\b\b\b\b\b\b\b\nEpoch 25: ReduceLROnPlateau reducing learning rate to 0.00020000000949949026.\n28/28 [==============================] - 38s 1s/step - loss: 0.0096 - val_loss: 0.0027 - lr: 0.0010\nEpoch 26/100\n28/28 [==============================] - 35s 1s/step - loss: 0.0095 - val_loss: 0.0027 - lr: 2.0000e-04\b\b\b\b\b\b\b\b\b\b\b\b\b\b\b\b\b\b\b\b\b\b\b\b\b\nEpoch 27/100\n28/28 [==============================] - 38s 1s/step - loss: 0.0095 - val_loss: 0.0025 - lr: 2.0000e-04\b\b\b\b\b\b\b\b\b\b\b\b\b\b\b\b\b\b\b\b\b\b\b\b\b\nEpoch 28/100\n28/28 [==============================] - 34s 1s/step - loss: 0.0086 - val_loss: 0.0029 - lr: 2.0000e-04\b\b\b\b\b\b\b\b\b\b\b\b\b\b\b\b\b\b\b\b\b\b\b\b\b\nEpoch 29/100\n28/28 [==============================] - 35s 1s/step - loss: 0.0091 - val_loss: 0.0027 - lr: 2.0000e-04\b\b\b\b\b\b\b\b\b\b\b\b\b\b\b\b\b\b\b\b\b\b\b\b\b\nEpoch 30/100\n28/28 [==============================] - ETA: 0s - loss: 0.0091\b\b\b\b\b\b\b\b\b\b\b\b\b\b\b\b\b\b\b\b\b\b\b\b\b\b\b\b\b\b\b\b\b\b\b\b\b\b\b\b\b\b\b\b\b\b\b\b\b\b\b\b\b\b\b\b\b\b\b\b\b\b\b\b\b\nEpoch 30: ReduceLROnPlateau reducing learning rate to 4.0000001899898055e-05.\n28/28 [==============================] - 35s 1s/step - loss: 0.0091 - val_loss: 0.0029 - lr: 2.0000e-04\nEpoch 31/100\n28/28 [==============================] - 34s 1s/step - loss: 0.0085 - val_loss: 0.0026 - lr: 4.0000e-05\b\b\b\b\b\b\b\b\b\b\b\b\b\b\b\b\b\b\b\b\b\b\b\b\b\nEpoch 32/100\n28/28 [==============================] - 34s 1s/step - loss: 0.0089 - val_loss: 0.0027 - lr: 4.0000e-05\b\b\b\b\b\b\b\b\b\b\b\b\b\b\b\b\b\b\b\b\b\b\b\b\b\nEpoch 32: early stopping\n\nCurrent model: Deeper=False, Wider=False, LR=0.001, Dropout=0.3\n\nEpoch 1/100\n28/28 [==============================] - 42s 1s/step - loss: 0.4232 - val_loss: 0.0505 - lr: 0.0010\b\b\b\b\b\b\b\b\b\b\b\b\b\b\b\b\b\b\b\b\b\b\b\b\b\b\b\b\b\b\b\nEpoch 2/100\n28/28 [==============================] - 39s 1s/step - loss: 0.0318 - val_loss: 0.0187 - lr: 0.0010\b\b\b\b\b\b\b\b\b\b\b\b\b\b\b\b\b\b\b\b\b\b\b\b\b\b\b\b\b\nEpoch 3/100\n28/28 [==============================] - 38s 1s/step - loss: 0.0233 - val_loss: 0.0119 - lr: 0.0010\b\b\b\b\b\b\b\b\b\b\b\b\b\b\b\b\b\b\b\b\b\b\b\b\b\b\b\b\b\nEpoch 4/100\n28/28 [==============================] - 39s 1s/step - loss: 0.0198 - val_loss: 0.0113 - lr: 0.0010\b\b\b\b\b\b\b\b\b\b\b\b\b\b\b\b\b\b\b\b\b\b\b\b\b\b\b\b\b\nEpoch 5/100\n28/28 [==============================] - 38s 1s/step - loss: 0.0172 - val_loss: 0.0079 - lr: 0.0010\b\b\b\b\b\b\b\b\b\b\b\b\b\b\b\b\b\b\b\b\b\b\b\b\b\b\b\b\b\nEpoch 6/100\n28/28 [==============================] - 39s 1s/step - loss: 0.0144 - val_loss: 0.0054 - lr: 0.0010\b\b\b\b\b\b\b\b\b\b\b\b\b\b\b\b\b\b\b\b\b\b\b\b\b\b\b\b\b\nEpoch 7/100\n28/28 [==============================] - 35s 1s/step - loss: 0.0140 - val_loss: 0.0060 - lr: 0.0010\b\b\b\b\b\b\b\b\b\b\b\b\b\b\b\b\b\b\b\b\b\b\b\b\b\b\b\b\b\nEpoch 8/100\n28/28 [==============================] - 35s 1s/step - loss: 0.0129 - val_loss: 0.0055 - lr: 0.0010\b\b\b\b\b\b\b\b\b\b\b\b\b\b\b\b\b\b\b\b\b\b\b\b\b\b\b\b\b\nEpoch 9/100\n28/28 [==============================] - 39s 1s/step - loss: 0.0119 - val_loss: 0.0043 - lr: 0.0010\b\b\b\b\b\b\b\b\b\b\b\b\b\b\b\b\b\b\b\b\b\b\b\b\b\b\b\b\b\nEpoch 10/100\n28/28 [==============================] - 39s 1s/step - loss: 0.0106 - val_loss: 0.0036 - lr: 0.0010\b\b\b\b\b\b\b\b\b\b\b\b\b\b\b\b\b\b\b\b\b\b\b\b\b\b\b\b\b\nEpoch 11/100\n28/28 [==============================] - 35s 1s/step - loss: 0.0099 - val_loss: 0.0040 - lr: 0.0010\b\b\b\b\b\b\b\b\b\b\b\b\b\b\b\b\b\b\b\b\b\b\b\b\b\b\b\b\b\nEpoch 12/100\n28/28 [==============================] - 35s 1s/step - loss: 0.0096 - val_loss: 0.0040 - lr: 0.0010\b\b\b\b\b\b\b\b\b\b\b\b\b\b\b\b\b\b\b\b\b\b\b\b\b\b\b\b\b\nEpoch 13/100\n28/28 [==============================] - 38s 1s/step - loss: 0.0092 - val_loss: 0.0032 - lr: 0.0010\b\b\b\b\b\b\b\b\b\b\b\b\b\b\b\b\b\b\b\b\b\b\b\b\b\b\b\b\b\nEpoch 14/100\n28/28 [==============================] - 34s 1s/step - loss: 0.0084 - val_loss: 0.0040 - lr: 0.0010\b\b\b\b\b\b\b\b\b\b\b\b\b\b\b\b\b\b\b\b\b\b\b\b\b\b\b\b\b\nEpoch 15/100\n28/28 [==============================] - 38s 1s/step - loss: 0.0080 - val_loss: 0.0032 - lr: 0.0010\b\b\b\b\b\b\b\b\b\b\b\b\b\b\b\b\b\b\b\b\b\b\b\b\b\b\b\b\b\nEpoch 16/100\n28/28 [==============================] - 38s 1s/step - loss: 0.0076 - val_loss: 0.0029 - lr: 0.0010\b\b\b\b\b\b\b\b\b\b\b\b\b\b\b\b\b\b\b\b\b\b\b\b\b\b\b\b\b\nEpoch 17/100\n28/28 [==============================] - 35s 1s/step - loss: 0.0079 - val_loss: 0.0031 - lr: 0.0010\b\b\b\b\b\b\b\b\b\b\b\b\b\b\b\b\b\b\b\b\b\b\b\b\b\b\b\b\b\nEpoch 18/100\n28/28 [==============================] - 39s 1s/step - loss: 0.0075 - val_loss: 0.0029 - lr: 0.0010\b\b\b\b\b\b\b\b\b\b\b\b\b\b\b\b\b\b\b\b\b\b\b\b\b\b\b\b\b\nEpoch 19/100\n28/28 [==============================] - ETA: 0s - loss: 0.0070\b\b\b\b\b\b\b\b\b\b\b\b\b\b\b\b\b\b\b\b\b\b\b\b\b\b\b\b\b\b\b\b\b\b\b\b\b\b\b\b\b\b\b\b\b\b\b\b\b\b\b\b\b\b\b\b\b\b\b\b\b\b\b\b\b\nEpoch 19: ReduceLROnPlateau reducing learning rate to 0.00020000000949949026.\n28/28 [==============================] - 35s 1s/step - loss: 0.0070 - val_loss: 0.0029 - lr: 0.0010\nEpoch 20/100\n28/28 [==============================] - 35s 1s/step - loss: 0.0063 - val_loss: 0.0029 - lr: 2.0000e-04\b\b\b\b\b\b\b\b\b\b\b\b\b\b\b\b\b\b\b\b\b\b\b\b\b\nEpoch 21/100\n28/28 [==============================] - 35s 1s/step - loss: 0.0069 - val_loss: 0.0031 - lr: 2.0000e-04\b\b\b\b\b\b\b\b\b\b\b\b\b\b\b\b\b\b\b\b\b\b\b\b\b\nEpoch 22/100\n28/28 [==============================] - ETA: 0s - loss: 0.0063\b\b\b\b\b\b\b\b\b\b\b\b\b\b\b\b\b\b\b\b\b\b\b\b\b\b\b\b\b\b\b\b\b\b\b\b\b\b\b\b\b\b\b\b\b\b\b\b\b\b\b\b\b\b\b\b\b\b\b\b\b\b\b\b\b\nEpoch 22: ReduceLROnPlateau reducing learning rate to 4.0000001899898055e-05.\n28/28 [==============================] - 35s 1s/step - loss: 0.0063 - val_loss: 0.0030 - lr: 2.0000e-04\nEpoch 23/100\n28/28 [==============================] - 39s 1s/step - loss: 0.0063 - val_loss: 0.0028 - lr: 4.0000e-05\b\b\b\b\b\b\b\b\b\b\b\b\b\b\b\b\b\b\b\b\b\b\b\b\b\nEpoch 24/100\n28/28 [==============================] - 35s 1s/step - loss: 0.0064 - val_loss: 0.0028 - lr: 4.0000e-05\b\b\b\b\b\b\b\b\b\b\b\b\b\b\b\b\b\b\b\b\b\b\b\b\b\nEpoch 25/100\n28/28 [==============================] - 35s 1s/step - loss: 0.0061 - val_loss: 0.0028 - lr: 4.0000e-05\b\b\b\b\b\b\b\b\b\b\b\b\b\b\b\b\b\b\b\b\b\b\b\b\b\nEpoch 26/100\n28/28 [==============================] - ETA: 0s - loss: 0.0066\b\b\b\b\b\b\b\b\b\b\b\b\b\b\b\b\b\b\b\b\b\b\b\b\b\b\b\b\b\b\b\b\b\b\b\b\b\b\b\b\b\b\b\b\b\b\b\b\b\b\b\b\b\b\b\b\b\b\b\b\b\b\b\b\b\nEpoch 26: ReduceLROnPlateau reducing learning rate to 8.000000525498762e-06.\n28/28 [==============================] - 38s 1s/step - loss: 0.0066 - val_loss: 0.0027 - lr: 4.0000e-05\nEpoch 27/100\n28/28 [==============================] - 35s 1s/step - loss: 0.0064 - val_loss: 0.0028 - lr: 8.0000e-06\b\b\b\b\b\b\b\b\b\b\b\b\b\b\b\b\b\b\b\b\b\b\b\b\b\nEpoch 28/100\n28/28 [==============================] - 34s 1s/step - loss: 0.0060 - val_loss: 0.0028 - lr: 8.0000e-06\b\b\b\b\b\b\b\b\b\b\b\b\b\b\b\b\b\b\b\b\b\b\b\b\b\nEpoch 29/100\n28/28 [==============================] - ETA: 0s - loss: 0.0068\b\b\b\b\b\b\b\b\b\b\b\b\b\b\b\b\b\b\b\b\b\b\b\b\b\b\b\b\b\b\b\b\b\b\b\b\b\b\b\b\b\b\b\b\b\b\b\b\b\b\b\b\b\b\b\b\b\b\b\b\b\b\b\b\b\nEpoch 29: ReduceLROnPlateau reducing learning rate to 1.6000001778593287e-06.\n28/28 [==============================] - 35s 1s/step - loss: 0.0068 - val_loss: 0.0028 - lr: 8.0000e-06\nEpoch 30/100\n28/28 [==============================] - 35s 1s/step - loss: 0.0062 - val_loss: 0.0028 - lr: 1.6000e-06\b\b\b\b\b\b\b\b\b\b\b\b\b\b\b\b\b\b\b\b\b\b\b\b\b\nEpoch 31/100\n28/28 [==============================] - 35s 1s/step - loss: 0.0061 - val_loss: 0.0028 - lr: 1.6000e-06\b\b\b\b\b\b\b\b\b\b\b\b\b\b\b\b\b\b\b\b\b\b\b\b\b\nEpoch 31: early stopping\n\nCurrent model: Deeper=False, Wider=False, LR=0.001, Dropout=0.5\n\nEpoch 1/100\n28/28 [==============================] - 41s 1s/step - loss: 0.8065 - val_loss: 0.0859 - lr: 0.0010\b\b\b\b\b\b\b\b\b\b\b\b\b\b\b\b\b\b\b\b\b\b\b\b\b\b\b\b\b\b\b\nEpoch 2/100\n28/28 [==============================] - 38s 1s/step - loss: 0.1283 - val_loss: 0.0459 - lr: 0.0010\b\b\b\b\b\b\b\b\b\b\b\b\b\b\b\b\b\b\b\b\b\b\b\b\b\b\b\b\b\nEpoch 3/100\n28/28 [==============================] - 39s 1s/step - loss: 0.0955 - val_loss: 0.0263 - lr: 0.0010\b\b\b\b\b\b\b\b\b\b\b\b\b\b\b\b\b\b\b\b\b\b\b\b\b\b\b\b\b\nEpoch 4/100\n28/28 [==============================] - 39s 1s/step - loss: 0.0782 - val_loss: 0.0221 - lr: 0.0010\b\b\b\b\b\b\b\b\b\b\b\b\b\b\b\b\b\b\b\b\b\b\b\b\b\b\b\b\b\nEpoch 5/100\n28/28 [==============================] - 38s 1s/step - loss: 0.0619 - val_loss: 0.0182 - lr: 0.0010\b\b\b\b\b\b\b\b\b\b\b\b\b\b\b\b\b\b\b\b\b\b\b\b\b\b\b\b\b\nEpoch 6/100\n28/28 [==============================] - 38s 1s/step - loss: 0.0488 - val_loss: 0.0145 - lr: 0.0010\b\b\b\b\b\b\b\b\b\b\b\b\b\b\b\b\b\b\b\b\b\b\b\b\b\b\b\b\b\nEpoch 7/100\n28/28 [==============================] - 35s 1s/step - loss: 0.0418 - val_loss: 0.0162 - lr: 0.0010\b\b\b\b\b\b\b\b\b\b\b\b\b\b\b\b\b\b\b\b\b\b\b\b\b\b\b\b\b\nEpoch 8/100\n28/28 [==============================] - 38s 1s/step - loss: 0.0362 - val_loss: 0.0116 - lr: 0.0010\b\b\b\b\b\b\b\b\b\b\b\b\b\b\b\b\b\b\b\b\b\b\b\b\b\b\b\b\b\nEpoch 9/100\n28/28 [==============================] - 38s 1s/step - loss: 0.0332 - val_loss: 0.0082 - lr: 0.0010\b\b\b\b\b\b\b\b\b\b\b\b\b\b\b\b\b\b\b\b\b\b\b\b\b\b\b\b\b\nEpoch 10/100\n28/28 [==============================] - 35s 1s/step - loss: 0.0304 - val_loss: 0.0089 - lr: 0.0010\b\b\b\b\b\b\b\b\b\b\b\b\b\b\b\b\b\b\b\b\b\b\b\b\b\b\b\b\b\nEpoch 11/100\n28/28 [==============================] - 38s 1s/step - loss: 0.0250 - val_loss: 0.0072 - lr: 0.0010\b\b\b\b\b\b\b\b\b\b\b\b\b\b\b\b\b\b\b\b\b\b\b\b\b\b\b\b\b\nEpoch 12/100\n28/28 [==============================] - 38s 1s/step - loss: 0.0221 - val_loss: 0.0065 - lr: 0.0010\b\b\b\b\b\b\b\b\b\b\b\b\b\b\b\b\b\b\b\b\b\b\b\b\b\b\b\b\b\nEpoch 13/100\n28/28 [==============================] - 38s 1s/step - loss: 0.0213 - val_loss: 0.0064 - lr: 0.0010\b\b\b\b\b\b\b\b\b\b\b\b\b\b\b\b\b\b\b\b\b\b\b\b\b\b\b\b\b\nEpoch 14/100\n28/28 [==============================] - 38s 1s/step - loss: 0.0198 - val_loss: 0.0051 - lr: 0.0010\b\b\b\b\b\b\b\b\b\b\b\b\b\b\b\b\b\b\b\b\b\b\b\b\b\b\b\b\b\nEpoch 15/100\n28/28 [==============================] - 38s 1s/step - loss: 0.0183 - val_loss: 0.0031 - lr: 0.0010\b\b\b\b\b\b\b\b\b\b\b\b\b\b\b\b\b\b\b\b\b\b\b\b\b\b\b\b\b\nEpoch 16/100\n28/28 [==============================] - 34s 1s/step - loss: 0.0164 - val_loss: 0.0036 - lr: 0.0010\b\b\b\b\b\b\b\b\b\b\b\b\b\b\b\b\b\b\b\b\b\b\b\b\b\b\b\b\b\nEpoch 17/100\n28/28 [==============================] - 34s 1s/step - loss: 0.0152 - val_loss: 0.0045 - lr: 0.0010\b\b\b\b\b\b\b\b\b\b\b\b\b\b\b\b\b\b\b\b\b\b\b\b\b\b\b\b\b\nEpoch 18/100\n28/28 [==============================] - ETA: 0s - loss: 0.0138\b\b\b\b\b\b\b\b\b\b\b\b\b\b\b\b\b\b\b\b\b\b\b\b\b\b\b\b\b\b\b\b\b\b\b\b\b\b\b\b\b\b\b\b\b\b\b\b\b\b\b\b\b\b\b\b\b\b\b\b\b\b\b\b\b\nEpoch 18: ReduceLROnPlateau reducing learning rate to 0.00020000000949949026.\n28/28 [==============================] - 34s 1s/step - loss: 0.0138 - val_loss: 0.0039 - lr: 0.0010\nEpoch 19/100\n28/28 [==============================] - 35s 1s/step - loss: 0.0131 - val_loss: 0.0034 - lr: 2.0000e-04\b\b\b\b\b\b\b\b\b\b\b\b\b\b\b\b\b\b\b\b\b\b\b\b\b\nEpoch 20/100\n28/28 [==============================] - 35s 1s/step - loss: 0.0130 - val_loss: 0.0038 - lr: 2.0000e-04\b\b\b\b\b\b\b\b\b\b\b\b\b\b\b\b\b\b\b\b\b\b\b\b\b\nEpoch 20: early stopping\n"
        }
      ],
      "execution_count": 41,
      "metadata": {
        "jupyter": {
          "source_hidden": false,
          "outputs_hidden": false
        },
        "nteract": {
          "transient": {
            "deleting": false
          }
        },
        "gather": {
          "logged": 1719954630042
        }
      }
    },
    {
      "cell_type": "code",
      "source": [
        "# Make predictions with the best weights\n",
        "deeper=False\n",
        "wider=False\n",
        "dropout=0.3\n",
        "learning_Rate = 0.001\n",
        "# Need to rebuild model in case it is different from the model that was trained most recently.\n",
        "model = build_model()\n",
        "\n",
        "model.load_weights('./question_pairs_weights_deeper={}_wider={}_lr={}_dropout={}.h5'.format(\n",
        "                    deeper,wider,learning_rate,dropout))\n",
        "predictions = model.predict([x_test,x_test], verbose = True)"
      ],
      "outputs": [
        {
          "output_type": "stream",
          "name": "stderr",
          "text": "WARNING:absl:`lr` is deprecated in Keras optimizer, please use `learning_rate` or use the legacy optimizer, e.g.,tf.keras.optimizers.legacy.Adam.\n"
        },
        {
          "output_type": "stream",
          "name": "stdout",
          "text": "23/23 [==============================] - 2s 94ms/step\b\b\b\b\b\b\b\b\b\b\b\b\b\b\b\b\b\b\b\b\b\b\b\b\b\b\b\b\b\b\b\b\b\b\b\b\b\b\b\b\b\b\b\n"
        }
      ],
      "execution_count": 42,
      "metadata": {
        "jupyter": {
          "source_hidden": false,
          "outputs_hidden": false
        },
        "nteract": {
          "transient": {
            "deleting": false
          }
        },
        "gather": {
          "logged": 1719954636085
        }
      }
    },
    {
      "cell_type": "code",
      "source": [
        "# Compare testing loss to training and validating loss\n",
        "mse(y_test, predictions)"
      ],
      "outputs": [
        {
          "output_type": "execute_result",
          "execution_count": 43,
          "data": {
            "text/plain": "0.001899653394494193"
          },
          "metadata": {}
        }
      ],
      "execution_count": 43,
      "metadata": {
        "jupyter": {
          "source_hidden": false,
          "outputs_hidden": false
        },
        "nteract": {
          "transient": {
            "deleting": false
          }
        },
        "gather": {
          "logged": 1719954636491
        }
      }
    },
    {
      "cell_type": "code",
      "source": [
        "def unnormalize(price):\n",
        "    '''Revert values to their unnormalized amounts'''\n",
        "    price = price*(max_price-min_price)+min_price\n",
        "    return(price)"
      ],
      "outputs": [],
      "execution_count": 44,
      "metadata": {
        "jupyter": {
          "source_hidden": false,
          "outputs_hidden": false
        },
        "nteract": {
          "transient": {
            "deleting": false
          }
        },
        "gather": {
          "logged": 1719954636837
        }
      }
    },
    {
      "cell_type": "code",
      "source": [
        "unnorm_predictions = []\n",
        "for pred in predictions:\n",
        "    unnorm_predictions.append(unnormalize(pred))\n",
        "    \n",
        "unnorm_y_test = []\n",
        "for y in y_test:\n",
        "    unnorm_y_test.append(unnormalize(y))"
      ],
      "outputs": [],
      "execution_count": 45,
      "metadata": {
        "jupyter": {
          "source_hidden": false,
          "outputs_hidden": false
        },
        "nteract": {
          "transient": {
            "deleting": false
          }
        },
        "gather": {
          "logged": 1719954637146
        }
      }
    },
    {
      "cell_type": "code",
      "source": [
        "# Calculate the median absolute error for the predictions\n",
        "mae(unnorm_y_test, unnorm_predictions)"
      ],
      "outputs": [
        {
          "output_type": "execute_result",
          "execution_count": 46,
          "data": {
            "text/plain": "146.48779296874955"
          },
          "metadata": {}
        }
      ],
      "execution_count": 46,
      "metadata": {
        "jupyter": {
          "source_hidden": false,
          "outputs_hidden": false
        },
        "nteract": {
          "transient": {
            "deleting": false
          }
        },
        "gather": {
          "logged": 1719954637472
        }
      }
    },
    {
      "cell_type": "code",
      "source": [
        "print(\"Summary of actual opening price changes\")\n",
        "print(pd.DataFrame(unnorm_y_test, columns=[\"\"]).describe())\n",
        "print()\n",
        "print(\"Summary of predicted opening price changes\")\n",
        "print(pd.DataFrame(unnorm_predictions, columns=[\"\"]).describe())"
      ],
      "outputs": [],
      "execution_count": 47,
      "metadata": {
        "jupyter": {
          "source_hidden": false,
          "outputs_hidden": false
        },
        "nteract": {
          "transient": {
            "deleting": false
          }
        },
        "gather": {
          "logged": 1719954637812
        }
      }
    },
    {
      "cell_type": "code",
      "source": [
        "# Plot the predicted (blue) and actual (green) values\n",
        "plt.figure(figsize=(12,4))\n",
        "plt.plot(unnorm_predictions)\n",
        "plt.plot(unnorm_y_test)\n",
        "plt.title(\"Predicted (blue) vs Actual (green) Opening Price Changes\")\n",
        "plt.xlabel(\"Testing instances\")\n",
        "plt.ylabel(\"Change in Opening Price\")\n",
        "plt.show()"
      ],
      "outputs": [
        {
          "output_type": "display_data",
          "data": {
            "text/plain": "<Figure size 1200x400 with 1 Axes>",
            "image/png": "[encoded data removed]"
          },
          "metadata": {}
        }
      ],
      "execution_count": 48,
      "metadata": {
        "jupyter": {
          "source_hidden": false,
          "outputs_hidden": false
        },
        "nteract": {
          "transient": {
            "deleting": false
          }
        },
        "gather": {
          "logged": 1719954638139
        }
      }
    },
    {
      "cell_type": "code",
      "source": [
        "# Create lists to measure if opening price increased or decreased\n",
        "direction_pred = []\n",
        "for pred in unnorm_predictions:\n",
        "    if pred >= 0:\n",
        "        direction_pred.append(1)\n",
        "    else:\n",
        "        direction_pred.append(0)\n",
        "direction_test = []\n",
        "for value in unnorm_y_test:\n",
        "    if value >= 0:\n",
        "        direction_test.append(1)\n",
        "    else:\n",
        "        direction_test.append(0)"
      ],
      "outputs": [],
      "execution_count": 49,
      "metadata": {
        "jupyter": {
          "source_hidden": false,
          "outputs_hidden": false
        },
        "nteract": {
          "transient": {
            "deleting": false
          }
        },
        "gather": {
          "logged": 1719954638461
        }
      }
    },
    {
      "cell_type": "code",
      "source": [
        "# Calculate if the predicted direction matched the actual direction\n",
        "direction = acc(direction_test, direction_pred)\n",
        "direction = round(direction,4)*100\n",
        "print(\"Predicted values matched the actual direction {}% of the time.\".format(direction))"
      ],
      "outputs": [],
      "execution_count": 50,
      "metadata": {
        "jupyter": {
          "source_hidden": false,
          "outputs_hidden": false
        },
        "nteract": {
          "transient": {
            "deleting": false
          }
        },
        "gather": {
          "logged": 1719954638779
        }
      }
    }
  ],
  "metadata": {
    "colab": {
      "provenance": [],
      "gpuType": "T4"
    },
    "kernelspec": {
      "name": "python38-azureml-pt-tf",
      "language": "python",
      "display_name": "Python 3.8 - Pytorch and Tensorflow"
    },
    "language_info": {
      "name": "python",
      "version": "3.9.19",
      "mimetype": "text/x-python",
      "codemirror_mode": {
        "name": "ipython",
        "version": 3
      },
      "pygments_lexer": "ipython3",
      "nbconvert_exporter": "python",
      "file_extension": ".py"
    },
    "accelerator": "GPU",
    "microsoft": {
      "ms_spell_check": {
        "ms_spell_check_language": "en"
      },
      "host": {
        "AzureML": {
          "notebookHasBeenCompleted": true
        }
      }
    },
    "kernel_info": {
      "name": "python38-azureml-pt-tf"
    },
    "nteract": {
      "version": "nteract-front-end@1.0.0"
    }
  },
  "nbformat": 4,
  "nbformat_minor": 0
}